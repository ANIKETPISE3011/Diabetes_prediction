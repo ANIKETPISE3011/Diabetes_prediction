{
 "cells": [
  {
   "cell_type": "code",
   "execution_count": 1,
   "id": "4be14b5f",
   "metadata": {},
   "outputs": [
    {
     "name": "stdout",
     "output_type": "stream",
     "text": [
      "['Book', 'that', 'flight']\n",
      "(S (VP (VP Book) (NP (Det that) (NP flight))))\n"
     ]
    }
   ],
   "source": [
    "#7. Finite state automata a) Define grammar using nltk. Analyze a sentence using the same.\n",
    "\n",
    "import nltk\n",
    "from nltk import tokenize\n",
    "grammar1 = nltk.CFG.fromstring(\"\"\"\n",
    "S -> VP\n",
    "VP -> VP NP\n",
    "NP -> Det NP\n",
    "Det -> 'that'\n",
    "NP -> singular Noun\n",
    "NP -> 'flight'\n",
    "VP -> 'Book'\n",
    "\"\"\")\n",
    "sentence = \"Book that flight\"\n",
    "for index in range(len(sentence)):\n",
    "    all_tokens = tokenize.word_tokenize(sentence)\n",
    "print(all_tokens)\n",
    "parser = nltk.ChartParser(grammar1)\n",
    "for tree in parser.parse(all_tokens):\n",
    "    print(tree)\n",
    "#draw(tree)"
   ]
  },
  {
   "cell_type": "code",
   "execution_count": null,
   "id": "30250982",
   "metadata": {},
   "outputs": [],
   "source": []
  },
  {
   "cell_type": "code",
   "execution_count": 5,
   "id": "9ab9ee7c",
   "metadata": {},
   "outputs": [
    {
     "name": "stdout",
     "output_type": "stream",
     "text": [
      "Rejected\n",
      "Rejected\n",
      "Accepted\n",
      "Accepted\n",
      "Rejected\n",
      "Rejected\n",
      "Rejected\n",
      "Rejected\n",
      "Accepted\n"
     ]
    }
   ],
   "source": [
    "#7b) Accept the input string with Regular expression of Finite Automaton: 101+.\n",
    "\n",
    "def FA(s):\n",
    "#if the length is less than 3 then it can't be accepted, Therefore end the process.\n",
    "    if len(s)<3:\n",
    "        return \"Rejected\"\n",
    "#first three characters are fixed. Therefore, checking them using index\n",
    "    if s[0]=='1':\n",
    "        if s[1]=='0':\n",
    "            if s[2]=='1':\n",
    "# After index 2 only \"1\" can appear. Therefore break the process if any other character is detected\n",
    "                for i in range(3,len(s)):\n",
    "                    if s[i]!='1':\n",
    "                        return \"Rejected\"\n",
    "                return \"Accepted\" # if all 4 nested if true\n",
    "    return \"Rejected\" # else of 3rd if\n",
    "inputs=['1','10101','101','10111','01010','100','','10111101','1011111']\n",
    "for i in inputs:\n",
    "    print(FA(i))"
   ]
  },
  {
   "cell_type": "code",
   "execution_count": null,
   "id": "958f8163",
   "metadata": {},
   "outputs": [],
   "source": []
  },
  {
   "cell_type": "code",
   "execution_count": 7,
   "id": "0b985571",
   "metadata": {},
   "outputs": [
    {
     "name": "stdout",
     "output_type": "stream",
     "text": [
      "Input: bba - Accepted\n",
      "Input: ababbba - Accepted\n",
      "Input: abba - Accepted\n",
      "Input: abb - Rejected\n",
      "Input: baba - Rejected\n",
      "Input: bbb - Rejected\n",
      "Input:  - Rejected\n"
     ]
    }
   ],
   "source": [
    "#7c Accept the input string with Regular expression of FA: (a+b)*bba.\n",
    "def FA(s):\n",
    "    size = 0\n",
    "    # Scan the complete string and make sure that it contains only 'a' & 'b'\n",
    "    for i in s:\n",
    "        if i == 'a' or i == 'b':\n",
    "            size += 1\n",
    "        else:\n",
    "            return \"Rejected\"\n",
    "\n",
    "    # After checking that it contains only 'a' & 'b'\n",
    "    # Check its length, it should be at least 3\n",
    "    if size >= 3:\n",
    "        # Check the last 3 elements\n",
    "        if s[size-3] == 'b':\n",
    "            if s[size-2] == 'b':\n",
    "                if s[size-1] == 'a':\n",
    "                    return \"Accepted\" # If all 4 conditions are true\n",
    "                return \"Rejected\" # Else of 4th if\n",
    "            return \"Rejected\" # Else of 3rd if\n",
    "        return \"Rejected\" # Else of 2nd if\n",
    "    return \"Rejected\" # Else of 1st if\n",
    "\n",
    "# List of input strings to test\n",
    "inputs = ['bba', 'ababbba', 'abba', 'abb', 'baba', 'bbb', '']\n",
    "\n",
    "# Iterate over the input strings and print the result of FA for each\n",
    "for i in inputs:\n",
    "    print(f\"Input: {i} - {FA(i)}\")\n"
   ]
  },
  {
   "cell_type": "code",
   "execution_count": null,
   "id": "42759350",
   "metadata": {},
   "outputs": [],
   "source": []
  },
  {
   "cell_type": "code",
   "execution_count": 9,
   "id": "51372c59",
   "metadata": {},
   "outputs": [
    {
     "name": "stdout",
     "output_type": "stream",
     "text": [
      "['I', 'saw', 'a', 'bird', 'in', 'my', 'balcony']\n",
      "(S\n",
      "  (NP I)\n",
      "  (VP\n",
      "    (VP (V saw) (NP (Det a) (N bird)))\n",
      "    (PP (P in) (NP (Det my) (N balcony)))))\n",
      "(S\n",
      "  (NP I)\n",
      "  (VP\n",
      "    (V saw)\n",
      "    (NP (Det a) (N bird) (PP (P in) (NP (Det my) (N balcony))))))\n"
     ]
    }
   ],
   "source": [
    "#7d Implementation of Deductive Chart Parsing using context free grammar and a given sentence\n",
    "import nltk\n",
    "from nltk import CFG, ChartParser, word_tokenize\n",
    "\n",
    "# Define the context-free grammar\n",
    "grammar1 = CFG.fromstring(\"\"\"\n",
    "S -> NP VP\n",
    "PP -> P NP\n",
    "NP -> Det N | Det N PP | 'I'\n",
    "VP -> V NP | VP PP\n",
    "Det -> 'a' | 'my'\n",
    "N -> 'bird' | 'balcony'\n",
    "V -> 'saw'\n",
    "P -> 'in'\n",
    "\"\"\")\n",
    "\n",
    "# Define the sentence and tokenize it\n",
    "sentence = \"I saw a bird in my balcony\"\n",
    "all_tokens = word_tokenize(sentence)\n",
    "print(all_tokens)\n",
    "\n",
    "# Initialize the chart parser with the grammar\n",
    "parser = ChartParser(grammar1)\n",
    "\n",
    "# Parse the tokens and print the parse trees\n",
    "for tree in parser.parse(all_tokens):\n",
    "    print(tree)\n",
    "    #tree.draw()\n"
   ]
  },
  {
   "cell_type": "code",
   "execution_count": null,
   "id": "91478dd3",
   "metadata": {},
   "outputs": [],
   "source": []
  }
 ],
 "metadata": {
  "kernelspec": {
   "display_name": "Python 3 (ipykernel)",
   "language": "python",
   "name": "python3"
  },
  "language_info": {
   "codemirror_mode": {
    "name": "ipython",
    "version": 3
   },
   "file_extension": ".py",
   "mimetype": "text/x-python",
   "name": "python",
   "nbconvert_exporter": "python",
   "pygments_lexer": "ipython3",
   "version": "3.11.4"
  }
 },
 "nbformat": 4,
 "nbformat_minor": 5
}
