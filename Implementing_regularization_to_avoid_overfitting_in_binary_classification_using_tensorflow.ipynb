{
 "cells": [
  {
   "cell_type": "code",
   "execution_count": 1,
   "metadata": {
    "id": "ggQQ4u_cR9X_"
   },
   "outputs": [],
   "source": [
    "from matplotlib import pyplot\n",
    "from sklearn.datasets import make_moons\n",
    "from keras.models import Sequential\n",
    "from keras.layers import Dense"
   ]
  },
  {
   "cell_type": "code",
   "execution_count": 2,
   "metadata": {
    "id": "i7omHprPSFlk"
   },
   "outputs": [],
   "source": [
    "X,Y=make_moons(n_samples=100,noise=0.2,random_state=1)\n",
    "n_train=30\n",
    "trainX,testX=X[:n_train,:],X[n_train:]\n",
    "trainY,testY=Y[:n_train],Y[n_train:]"
   ]
  },
  {
   "cell_type": "code",
   "execution_count": 3,
   "metadata": {
    "colab": {
     "base_uri": "https://localhost:8080/"
    },
    "id": "Ac3fkSdmSLvI",
    "outputId": "7b0bc983-ca4c-4fea-b416-c550621b10f9"
   },
   "outputs": [
    {
     "name": "stdout",
     "output_type": "stream",
     "text": [
      "(30, 2)\n",
      "(30,)\n",
      "(70, 2)\n",
      "(70,)\n"
     ]
    }
   ],
   "source": [
    "print(trainX.shape)\n",
    "print(trainY.shape)\n",
    "print(testX.shape)\n",
    "print(testY.shape)"
   ]
  },
  {
   "cell_type": "code",
   "execution_count": 4,
   "metadata": {
    "id": "3JD_NgOlYNk3"
   },
   "outputs": [],
   "source": [
    "model=Sequential()\n",
    "model.add(Dense(500,input_dim=2,activation='relu'))\n",
    "model.add(Dense(1,activation='sigmoid'))\n",
    "model.compile(loss='binary_crossentropy',optimizer='adam',metrics=['accuracy'])"
   ]
  },
  {
   "cell_type": "code",
   "execution_count": 5,
   "metadata": {
    "colab": {
     "base_uri": "https://localhost:8080/"
    },
    "id": "0mMRpq-UYZXP",
    "outputId": "ff45f339-3636-46a6-fe4e-d360922fc139"
   },
   "outputs": [
    {
     "name": "stdout",
     "output_type": "stream",
     "text": [
      "Model: \"sequential\"\n",
      "_________________________________________________________________\n",
      " Layer (type)                Output Shape              Param #   \n",
      "=================================================================\n",
      " dense (Dense)               (None, 500)               1500      \n",
      "                                                                 \n",
      " dense_1 (Dense)             (None, 1)                 501       \n",
      "                                                                 \n",
      "=================================================================\n",
      "Total params: 2,001\n",
      "Trainable params: 2,001\n",
      "Non-trainable params: 0\n",
      "_________________________________________________________________\n"
     ]
    }
   ],
   "source": [
    "model.summary()"
   ]
  },
  {
   "cell_type": "code",
   "execution_count": 6,
   "metadata": {
    "colab": {
     "base_uri": "https://localhost:8080/"
    },
    "id": "dS8GBfcuYery",
    "outputId": "4b064f7d-0e65-48f0-d4fc-e380e24e4133"
   },
   "outputs": [
    {
     "name": "stdout",
     "output_type": "stream",
     "text": [
      "Epoch 1/100\n",
      "1/1 [==============================] - 2s 2s/step - loss: 0.6782 - accuracy: 0.5333 - val_loss: 0.6755 - val_accuracy: 0.5571\n",
      "Epoch 2/100\n",
      "1/1 [==============================] - 0s 65ms/step - loss: 0.6614 - accuracy: 0.8000 - val_loss: 0.6650 - val_accuracy: 0.6571\n",
      "Epoch 3/100\n",
      "1/1 [==============================] - 0s 69ms/step - loss: 0.6451 - accuracy: 0.8000 - val_loss: 0.6548 - val_accuracy: 0.6857\n",
      "Epoch 4/100\n",
      "1/1 [==============================] - 0s 61ms/step - loss: 0.6292 - accuracy: 0.8333 - val_loss: 0.6451 - val_accuracy: 0.6857\n",
      "Epoch 5/100\n",
      "1/1 [==============================] - 0s 63ms/step - loss: 0.6138 - accuracy: 0.8333 - val_loss: 0.6357 - val_accuracy: 0.6857\n",
      "Epoch 6/100\n",
      "1/1 [==============================] - 0s 62ms/step - loss: 0.5989 - accuracy: 0.8333 - val_loss: 0.6266 - val_accuracy: 0.6857\n",
      "Epoch 7/100\n",
      "1/1 [==============================] - 0s 58ms/step - loss: 0.5844 - accuracy: 0.8667 - val_loss: 0.6179 - val_accuracy: 0.7000\n",
      "Epoch 8/100\n",
      "1/1 [==============================] - 0s 62ms/step - loss: 0.5704 - accuracy: 0.8667 - val_loss: 0.6096 - val_accuracy: 0.7143\n",
      "Epoch 9/100\n",
      "1/1 [==============================] - 0s 62ms/step - loss: 0.5568 - accuracy: 0.8667 - val_loss: 0.6016 - val_accuracy: 0.7143\n",
      "Epoch 10/100\n",
      "1/1 [==============================] - 0s 64ms/step - loss: 0.5437 - accuracy: 0.8667 - val_loss: 0.5939 - val_accuracy: 0.7143\n",
      "Epoch 11/100\n",
      "1/1 [==============================] - 0s 63ms/step - loss: 0.5310 - accuracy: 0.8667 - val_loss: 0.5865 - val_accuracy: 0.7143\n",
      "Epoch 12/100\n",
      "1/1 [==============================] - 0s 58ms/step - loss: 0.5187 - accuracy: 0.8667 - val_loss: 0.5795 - val_accuracy: 0.7143\n",
      "Epoch 13/100\n",
      "1/1 [==============================] - 0s 66ms/step - loss: 0.5068 - accuracy: 0.8667 - val_loss: 0.5727 - val_accuracy: 0.7143\n",
      "Epoch 14/100\n",
      "1/1 [==============================] - 0s 63ms/step - loss: 0.4953 - accuracy: 0.8667 - val_loss: 0.5662 - val_accuracy: 0.7143\n",
      "Epoch 15/100\n",
      "1/1 [==============================] - 0s 61ms/step - loss: 0.4841 - accuracy: 0.8667 - val_loss: 0.5600 - val_accuracy: 0.7143\n",
      "Epoch 16/100\n",
      "1/1 [==============================] - 0s 61ms/step - loss: 0.4732 - accuracy: 0.8667 - val_loss: 0.5541 - val_accuracy: 0.7143\n",
      "Epoch 17/100\n",
      "1/1 [==============================] - 0s 62ms/step - loss: 0.4626 - accuracy: 0.8667 - val_loss: 0.5484 - val_accuracy: 0.7143\n",
      "Epoch 18/100\n",
      "1/1 [==============================] - 0s 62ms/step - loss: 0.4523 - accuracy: 0.8667 - val_loss: 0.5430 - val_accuracy: 0.7143\n",
      "Epoch 19/100\n",
      "1/1 [==============================] - 0s 58ms/step - loss: 0.4424 - accuracy: 0.8667 - val_loss: 0.5378 - val_accuracy: 0.7143\n",
      "Epoch 20/100\n",
      "1/1 [==============================] - 0s 62ms/step - loss: 0.4328 - accuracy: 0.8667 - val_loss: 0.5328 - val_accuracy: 0.7143\n",
      "Epoch 21/100\n",
      "1/1 [==============================] - 0s 62ms/step - loss: 0.4235 - accuracy: 0.8667 - val_loss: 0.5281 - val_accuracy: 0.7143\n",
      "Epoch 22/100\n",
      "1/1 [==============================] - 0s 67ms/step - loss: 0.4145 - accuracy: 0.8667 - val_loss: 0.5236 - val_accuracy: 0.7143\n",
      "Epoch 23/100\n",
      "1/1 [==============================] - 0s 62ms/step - loss: 0.4058 - accuracy: 0.8667 - val_loss: 0.5193 - val_accuracy: 0.7143\n",
      "Epoch 24/100\n",
      "1/1 [==============================] - 0s 62ms/step - loss: 0.3974 - accuracy: 0.8667 - val_loss: 0.5152 - val_accuracy: 0.7143\n",
      "Epoch 25/100\n",
      "1/1 [==============================] - 0s 65ms/step - loss: 0.3893 - accuracy: 0.8667 - val_loss: 0.5113 - val_accuracy: 0.7143\n",
      "Epoch 26/100\n",
      "1/1 [==============================] - 0s 64ms/step - loss: 0.3814 - accuracy: 0.9000 - val_loss: 0.5076 - val_accuracy: 0.7143\n",
      "Epoch 27/100\n",
      "1/1 [==============================] - 0s 69ms/step - loss: 0.3738 - accuracy: 0.9000 - val_loss: 0.5041 - val_accuracy: 0.7143\n",
      "Epoch 28/100\n",
      "1/1 [==============================] - 0s 66ms/step - loss: 0.3664 - accuracy: 0.9000 - val_loss: 0.5008 - val_accuracy: 0.7286\n",
      "Epoch 29/100\n",
      "1/1 [==============================] - 0s 78ms/step - loss: 0.3593 - accuracy: 0.9000 - val_loss: 0.4976 - val_accuracy: 0.7286\n",
      "Epoch 30/100\n",
      "1/1 [==============================] - 0s 66ms/step - loss: 0.3525 - accuracy: 0.9000 - val_loss: 0.4946 - val_accuracy: 0.7286\n",
      "Epoch 31/100\n",
      "1/1 [==============================] - 0s 64ms/step - loss: 0.3458 - accuracy: 0.9000 - val_loss: 0.4918 - val_accuracy: 0.7286\n",
      "Epoch 32/100\n",
      "1/1 [==============================] - 0s 71ms/step - loss: 0.3395 - accuracy: 0.9000 - val_loss: 0.4892 - val_accuracy: 0.7286\n",
      "Epoch 33/100\n",
      "1/1 [==============================] - 0s 66ms/step - loss: 0.3333 - accuracy: 0.9000 - val_loss: 0.4867 - val_accuracy: 0.7286\n",
      "Epoch 34/100\n",
      "1/1 [==============================] - 0s 68ms/step - loss: 0.3274 - accuracy: 0.9000 - val_loss: 0.4843 - val_accuracy: 0.7286\n",
      "Epoch 35/100\n",
      "1/1 [==============================] - 0s 68ms/step - loss: 0.3217 - accuracy: 0.9000 - val_loss: 0.4820 - val_accuracy: 0.7286\n",
      "Epoch 36/100\n",
      "1/1 [==============================] - 0s 63ms/step - loss: 0.3162 - accuracy: 0.9000 - val_loss: 0.4799 - val_accuracy: 0.7286\n",
      "Epoch 37/100\n",
      "1/1 [==============================] - 0s 63ms/step - loss: 0.3110 - accuracy: 0.9000 - val_loss: 0.4779 - val_accuracy: 0.7286\n",
      "Epoch 38/100\n",
      "1/1 [==============================] - 0s 70ms/step - loss: 0.3059 - accuracy: 0.9000 - val_loss: 0.4760 - val_accuracy: 0.7286\n",
      "Epoch 39/100\n",
      "1/1 [==============================] - 0s 69ms/step - loss: 0.3010 - accuracy: 0.8667 - val_loss: 0.4742 - val_accuracy: 0.7286\n",
      "Epoch 40/100\n",
      "1/1 [==============================] - 0s 69ms/step - loss: 0.2963 - accuracy: 0.8667 - val_loss: 0.4726 - val_accuracy: 0.7286\n",
      "Epoch 41/100\n",
      "1/1 [==============================] - 0s 71ms/step - loss: 0.2918 - accuracy: 0.8667 - val_loss: 0.4709 - val_accuracy: 0.7286\n",
      "Epoch 42/100\n",
      "1/1 [==============================] - 0s 68ms/step - loss: 0.2875 - accuracy: 0.9000 - val_loss: 0.4694 - val_accuracy: 0.7286\n",
      "Epoch 43/100\n",
      "1/1 [==============================] - 0s 67ms/step - loss: 0.2834 - accuracy: 0.9000 - val_loss: 0.4680 - val_accuracy: 0.7286\n",
      "Epoch 44/100\n",
      "1/1 [==============================] - 0s 68ms/step - loss: 0.2794 - accuracy: 0.9000 - val_loss: 0.4666 - val_accuracy: 0.7286\n",
      "Epoch 45/100\n",
      "1/1 [==============================] - 0s 60ms/step - loss: 0.2756 - accuracy: 0.9000 - val_loss: 0.4654 - val_accuracy: 0.7286\n",
      "Epoch 46/100\n",
      "1/1 [==============================] - 0s 63ms/step - loss: 0.2719 - accuracy: 0.9000 - val_loss: 0.4641 - val_accuracy: 0.7286\n",
      "Epoch 47/100\n",
      "1/1 [==============================] - 0s 63ms/step - loss: 0.2684 - accuracy: 0.9000 - val_loss: 0.4630 - val_accuracy: 0.7286\n",
      "Epoch 48/100\n",
      "1/1 [==============================] - 0s 66ms/step - loss: 0.2650 - accuracy: 0.9000 - val_loss: 0.4618 - val_accuracy: 0.7286\n",
      "Epoch 49/100\n",
      "1/1 [==============================] - 0s 68ms/step - loss: 0.2618 - accuracy: 0.9000 - val_loss: 0.4608 - val_accuracy: 0.7286\n",
      "Epoch 50/100\n",
      "1/1 [==============================] - 0s 62ms/step - loss: 0.2586 - accuracy: 0.9000 - val_loss: 0.4597 - val_accuracy: 0.7286\n",
      "Epoch 51/100\n",
      "1/1 [==============================] - 0s 69ms/step - loss: 0.2556 - accuracy: 0.9000 - val_loss: 0.4587 - val_accuracy: 0.7286\n",
      "Epoch 52/100\n",
      "1/1 [==============================] - 0s 71ms/step - loss: 0.2527 - accuracy: 0.9000 - val_loss: 0.4577 - val_accuracy: 0.7286\n",
      "Epoch 53/100\n",
      "1/1 [==============================] - 0s 60ms/step - loss: 0.2500 - accuracy: 0.9000 - val_loss: 0.4568 - val_accuracy: 0.7286\n",
      "Epoch 54/100\n",
      "1/1 [==============================] - 0s 63ms/step - loss: 0.2473 - accuracy: 0.9000 - val_loss: 0.4558 - val_accuracy: 0.7286\n",
      "Epoch 55/100\n",
      "1/1 [==============================] - 0s 66ms/step - loss: 0.2447 - accuracy: 0.9000 - val_loss: 0.4549 - val_accuracy: 0.7286\n",
      "Epoch 56/100\n",
      "1/1 [==============================] - 0s 64ms/step - loss: 0.2422 - accuracy: 0.9000 - val_loss: 0.4540 - val_accuracy: 0.7286\n",
      "Epoch 57/100\n",
      "1/1 [==============================] - 0s 64ms/step - loss: 0.2399 - accuracy: 0.9000 - val_loss: 0.4532 - val_accuracy: 0.7286\n",
      "Epoch 58/100\n",
      "1/1 [==============================] - 0s 60ms/step - loss: 0.2376 - accuracy: 0.8667 - val_loss: 0.4523 - val_accuracy: 0.7429\n",
      "Epoch 59/100\n"
     ]
    },
    {
     "name": "stdout",
     "output_type": "stream",
     "text": [
      "1/1 [==============================] - 0s 59ms/step - loss: 0.2354 - accuracy: 0.8667 - val_loss: 0.4514 - val_accuracy: 0.7429\n",
      "Epoch 60/100\n",
      "1/1 [==============================] - 0s 61ms/step - loss: 0.2332 - accuracy: 0.8667 - val_loss: 0.4506 - val_accuracy: 0.7429\n",
      "Epoch 61/100\n",
      "1/1 [==============================] - 0s 65ms/step - loss: 0.2312 - accuracy: 0.8667 - val_loss: 0.4498 - val_accuracy: 0.7429\n",
      "Epoch 62/100\n",
      "1/1 [==============================] - 0s 62ms/step - loss: 0.2292 - accuracy: 0.8667 - val_loss: 0.4490 - val_accuracy: 0.7429\n",
      "Epoch 63/100\n",
      "1/1 [==============================] - 0s 64ms/step - loss: 0.2273 - accuracy: 0.8667 - val_loss: 0.4482 - val_accuracy: 0.7429\n",
      "Epoch 64/100\n",
      "1/1 [==============================] - 0s 70ms/step - loss: 0.2255 - accuracy: 0.8667 - val_loss: 0.4474 - val_accuracy: 0.7429\n",
      "Epoch 65/100\n",
      "1/1 [==============================] - 0s 67ms/step - loss: 0.2237 - accuracy: 0.8667 - val_loss: 0.4467 - val_accuracy: 0.7429\n",
      "Epoch 66/100\n",
      "1/1 [==============================] - 0s 64ms/step - loss: 0.2221 - accuracy: 0.8667 - val_loss: 0.4459 - val_accuracy: 0.7429\n",
      "Epoch 67/100\n",
      "1/1 [==============================] - 0s 67ms/step - loss: 0.2204 - accuracy: 0.8667 - val_loss: 0.4452 - val_accuracy: 0.7429\n",
      "Epoch 68/100\n",
      "1/1 [==============================] - 0s 63ms/step - loss: 0.2188 - accuracy: 0.8667 - val_loss: 0.4445 - val_accuracy: 0.7429\n",
      "Epoch 69/100\n",
      "1/1 [==============================] - 0s 60ms/step - loss: 0.2173 - accuracy: 0.8667 - val_loss: 0.4438 - val_accuracy: 0.7429\n",
      "Epoch 70/100\n",
      "1/1 [==============================] - 0s 63ms/step - loss: 0.2159 - accuracy: 0.8667 - val_loss: 0.4431 - val_accuracy: 0.7429\n",
      "Epoch 71/100\n",
      "1/1 [==============================] - 0s 62ms/step - loss: 0.2144 - accuracy: 0.8667 - val_loss: 0.4424 - val_accuracy: 0.7429\n",
      "Epoch 72/100\n",
      "1/1 [==============================] - 0s 62ms/step - loss: 0.2131 - accuracy: 0.8667 - val_loss: 0.4418 - val_accuracy: 0.7429\n",
      "Epoch 73/100\n",
      "1/1 [==============================] - 0s 63ms/step - loss: 0.2117 - accuracy: 0.8667 - val_loss: 0.4411 - val_accuracy: 0.7429\n",
      "Epoch 74/100\n",
      "1/1 [==============================] - 0s 62ms/step - loss: 0.2104 - accuracy: 0.8667 - val_loss: 0.4405 - val_accuracy: 0.7429\n",
      "Epoch 75/100\n",
      "1/1 [==============================] - 0s 62ms/step - loss: 0.2092 - accuracy: 0.9000 - val_loss: 0.4399 - val_accuracy: 0.7429\n",
      "Epoch 76/100\n",
      "1/1 [==============================] - 0s 59ms/step - loss: 0.2080 - accuracy: 0.9000 - val_loss: 0.4393 - val_accuracy: 0.7429\n",
      "Epoch 77/100\n",
      "1/1 [==============================] - 0s 66ms/step - loss: 0.2068 - accuracy: 0.9000 - val_loss: 0.4387 - val_accuracy: 0.7429\n",
      "Epoch 78/100\n",
      "1/1 [==============================] - 0s 64ms/step - loss: 0.2056 - accuracy: 0.9000 - val_loss: 0.4381 - val_accuracy: 0.7429\n",
      "Epoch 79/100\n",
      "1/1 [==============================] - 0s 61ms/step - loss: 0.2045 - accuracy: 0.9000 - val_loss: 0.4375 - val_accuracy: 0.7429\n",
      "Epoch 80/100\n",
      "1/1 [==============================] - 0s 61ms/step - loss: 0.2034 - accuracy: 0.9000 - val_loss: 0.4369 - val_accuracy: 0.7429\n",
      "Epoch 81/100\n",
      "1/1 [==============================] - 0s 66ms/step - loss: 0.2024 - accuracy: 0.9000 - val_loss: 0.4363 - val_accuracy: 0.7429\n",
      "Epoch 82/100\n",
      "1/1 [==============================] - 0s 61ms/step - loss: 0.2013 - accuracy: 0.9000 - val_loss: 0.4357 - val_accuracy: 0.7429\n",
      "Epoch 83/100\n",
      "1/1 [==============================] - 0s 60ms/step - loss: 0.2003 - accuracy: 0.9000 - val_loss: 0.4352 - val_accuracy: 0.7429\n",
      "Epoch 84/100\n",
      "1/1 [==============================] - 0s 60ms/step - loss: 0.1993 - accuracy: 0.9000 - val_loss: 0.4346 - val_accuracy: 0.7429\n",
      "Epoch 85/100\n",
      "1/1 [==============================] - 0s 62ms/step - loss: 0.1984 - accuracy: 0.9000 - val_loss: 0.4340 - val_accuracy: 0.7429\n",
      "Epoch 86/100\n",
      "1/1 [==============================] - 0s 60ms/step - loss: 0.1974 - accuracy: 0.9000 - val_loss: 0.4333 - val_accuracy: 0.7429\n",
      "Epoch 87/100\n",
      "1/1 [==============================] - 0s 65ms/step - loss: 0.1965 - accuracy: 0.9000 - val_loss: 0.4327 - val_accuracy: 0.7429\n",
      "Epoch 88/100\n",
      "1/1 [==============================] - 0s 59ms/step - loss: 0.1956 - accuracy: 0.9000 - val_loss: 0.4321 - val_accuracy: 0.7429\n",
      "Epoch 89/100\n",
      "1/1 [==============================] - 0s 60ms/step - loss: 0.1947 - accuracy: 0.9000 - val_loss: 0.4314 - val_accuracy: 0.7429\n",
      "Epoch 90/100\n",
      "1/1 [==============================] - 0s 60ms/step - loss: 0.1939 - accuracy: 0.9000 - val_loss: 0.4307 - val_accuracy: 0.7429\n",
      "Epoch 91/100\n",
      "1/1 [==============================] - 0s 66ms/step - loss: 0.1930 - accuracy: 0.9000 - val_loss: 0.4300 - val_accuracy: 0.7429\n",
      "Epoch 92/100\n",
      "1/1 [==============================] - 0s 87ms/step - loss: 0.1922 - accuracy: 0.9000 - val_loss: 0.4293 - val_accuracy: 0.7429\n",
      "Epoch 93/100\n",
      "1/1 [==============================] - 0s 78ms/step - loss: 0.1914 - accuracy: 0.9000 - val_loss: 0.4286 - val_accuracy: 0.7429\n",
      "Epoch 94/100\n",
      "1/1 [==============================] - 0s 69ms/step - loss: 0.1905 - accuracy: 0.9000 - val_loss: 0.4279 - val_accuracy: 0.7429\n",
      "Epoch 95/100\n",
      "1/1 [==============================] - 0s 66ms/step - loss: 0.1898 - accuracy: 0.9000 - val_loss: 0.4271 - val_accuracy: 0.7429\n",
      "Epoch 96/100\n",
      "1/1 [==============================] - 0s 69ms/step - loss: 0.1890 - accuracy: 0.9000 - val_loss: 0.4264 - val_accuracy: 0.7429\n",
      "Epoch 97/100\n",
      "1/1 [==============================] - 0s 61ms/step - loss: 0.1882 - accuracy: 0.9000 - val_loss: 0.4256 - val_accuracy: 0.7429\n",
      "Epoch 98/100\n",
      "1/1 [==============================] - 0s 64ms/step - loss: 0.1875 - accuracy: 0.9000 - val_loss: 0.4249 - val_accuracy: 0.7429\n",
      "Epoch 99/100\n",
      "1/1 [==============================] - 0s 68ms/step - loss: 0.1867 - accuracy: 0.9000 - val_loss: 0.4241 - val_accuracy: 0.7429\n",
      "Epoch 100/100\n",
      "1/1 [==============================] - 0s 74ms/step - loss: 0.1860 - accuracy: 0.9000 - val_loss: 0.4233 - val_accuracy: 0.7429\n"
     ]
    }
   ],
   "source": [
    "history=model.fit(trainX,trainY,validation_data=(testX,testY),epochs=100)"
   ]
  },
  {
   "cell_type": "code",
   "execution_count": 7,
   "metadata": {
    "colab": {
     "base_uri": "https://localhost:8080/",
     "height": 268
    },
    "id": "9D38b5nkYr1Z",
    "outputId": "3731ab91-cde1-40c8-8074-e4bd87b5dc3b"
   },
   "outputs": [
    {
     "data": {
      "image/png": "[encoded data removed]",
      "text/plain": [
       "<Figure size 640x480 with 1 Axes>"
      ]
     },
     "metadata": {},
     "output_type": "display_data"
    }
   ],
   "source": [
    "pyplot.plot(history.history['accuracy'],label='train')\n",
    "pyplot.plot(history.history['val_accuracy'],label='test')\n",
    "pyplot.legend()\n",
    "pyplot.show()"
   ]
  },
  {
   "cell_type": "code",
   "execution_count": 8,
   "metadata": {
    "id": "vON0XO90Y4Di"
   },
   "outputs": [],
   "source": [
    "# After 75 epochs it started overfitting by giving same validation accuracy on the test data, so let us use regularization technique "
   ]
  },
  {
   "cell_type": "code",
   "execution_count": 9,
   "metadata": {
    "id": "-0NAnp3aZnpJ"
   },
   "outputs": [],
   "source": [
    "from keras.regularizers import l2"
   ]
  },
  {
   "cell_type": "code",
   "execution_count": 10,
   "metadata": {
    "id": "_OS3Zqh8ZoaK"
   },
   "outputs": [],
   "source": [
    "model=Sequential()\n",
    "model.add(Dense(500,input_dim=2,activation='relu',kernel_regularizer=l2(0.001)))\n",
    "model.add(Dense(1,activation='sigmoid'))"
   ]
  },
  {
   "cell_type": "code",
   "execution_count": 11,
   "metadata": {
    "colab": {
     "base_uri": "https://localhost:8080/"
    },
    "id": "wsAeoUqMZrOR",
    "outputId": "8919a6d8-a3b9-4867-d2e1-4773f719162a"
   },
   "outputs": [
    {
     "name": "stdout",
     "output_type": "stream",
     "text": [
      "Model: \"sequential_1\"\n",
      "_________________________________________________________________\n",
      " Layer (type)                Output Shape              Param #   \n",
      "=================================================================\n",
      " dense_2 (Dense)             (None, 500)               1500      \n",
      "                                                                 \n",
      " dense_3 (Dense)             (None, 1)                 501       \n",
      "                                                                 \n",
      "=================================================================\n",
      "Total params: 2,001\n",
      "Trainable params: 2,001\n",
      "Non-trainable params: 0\n",
      "_________________________________________________________________\n"
     ]
    }
   ],
   "source": [
    "model.summary()"
   ]
  },
  {
   "cell_type": "code",
   "execution_count": 12,
   "metadata": {
    "id": "v8Oe5nbyZvVO"
   },
   "outputs": [],
   "source": [
    "model.compile(loss='binary_crossentropy',optimizer='adam',metrics=['accuracy'])"
   ]
  },
  {
   "cell_type": "code",
   "execution_count": 13,
   "metadata": {
    "colab": {
     "base_uri": "https://localhost:8080/"
    },
    "id": "aS0Aty_QaDyJ",
    "outputId": "09c5fbb8-37c6-4b6c-8557-727d101312c9"
   },
   "outputs": [
    {
     "name": "stdout",
     "output_type": "stream",
     "text": [
      "Epoch 1/100\n",
      "1/1 [==============================] - 1s 1s/step - loss: 0.7149 - accuracy: 0.1667 - val_loss: 0.6974 - val_accuracy: 0.5429\n",
      "Epoch 2/100\n",
      "1/1 [==============================] - 0s 65ms/step - loss: 0.6982 - accuracy: 0.6333 - val_loss: 0.6867 - val_accuracy: 0.6143\n",
      "Epoch 3/100\n",
      "1/1 [==============================] - 0s 66ms/step - loss: 0.6818 - accuracy: 0.8667 - val_loss: 0.6763 - val_accuracy: 0.7000\n",
      "Epoch 4/100\n",
      "1/1 [==============================] - 0s 62ms/step - loss: 0.6659 - accuracy: 0.8667 - val_loss: 0.6663 - val_accuracy: 0.7143\n",
      "Epoch 5/100\n",
      "1/1 [==============================] - 0s 64ms/step - loss: 0.6505 - accuracy: 0.8667 - val_loss: 0.6567 - val_accuracy: 0.7143\n",
      "Epoch 6/100\n",
      "1/1 [==============================] - 0s 63ms/step - loss: 0.6355 - accuracy: 0.8667 - val_loss: 0.6474 - val_accuracy: 0.7143\n",
      "Epoch 7/100\n",
      "1/1 [==============================] - 0s 59ms/step - loss: 0.6210 - accuracy: 0.8667 - val_loss: 0.6384 - val_accuracy: 0.7143\n",
      "Epoch 8/100\n",
      "1/1 [==============================] - 0s 66ms/step - loss: 0.6068 - accuracy: 0.8667 - val_loss: 0.6297 - val_accuracy: 0.7143\n",
      "Epoch 9/100\n",
      "1/1 [==============================] - 0s 70ms/step - loss: 0.5931 - accuracy: 0.8667 - val_loss: 0.6214 - val_accuracy: 0.7143\n",
      "Epoch 10/100\n",
      "1/1 [==============================] - 0s 65ms/step - loss: 0.5797 - accuracy: 0.8667 - val_loss: 0.6134 - val_accuracy: 0.7143\n",
      "Epoch 11/100\n",
      "1/1 [==============================] - 0s 70ms/step - loss: 0.5667 - accuracy: 0.8667 - val_loss: 0.6056 - val_accuracy: 0.7143\n",
      "Epoch 12/100\n",
      "1/1 [==============================] - 0s 63ms/step - loss: 0.5541 - accuracy: 0.8667 - val_loss: 0.5981 - val_accuracy: 0.7143\n",
      "Epoch 13/100\n",
      "1/1 [==============================] - 0s 67ms/step - loss: 0.5418 - accuracy: 0.8667 - val_loss: 0.5909 - val_accuracy: 0.7143\n",
      "Epoch 14/100\n",
      "1/1 [==============================] - 0s 63ms/step - loss: 0.5299 - accuracy: 0.8667 - val_loss: 0.5840 - val_accuracy: 0.7143\n",
      "Epoch 15/100\n",
      "1/1 [==============================] - 0s 62ms/step - loss: 0.5184 - accuracy: 0.8667 - val_loss: 0.5773 - val_accuracy: 0.7143\n",
      "Epoch 16/100\n",
      "1/1 [==============================] - 0s 62ms/step - loss: 0.5072 - accuracy: 0.8667 - val_loss: 0.5709 - val_accuracy: 0.7143\n",
      "Epoch 17/100\n",
      "1/1 [==============================] - 0s 69ms/step - loss: 0.4963 - accuracy: 0.8667 - val_loss: 0.5647 - val_accuracy: 0.7143\n",
      "Epoch 18/100\n",
      "1/1 [==============================] - 0s 66ms/step - loss: 0.4857 - accuracy: 0.8667 - val_loss: 0.5588 - val_accuracy: 0.7143\n",
      "Epoch 19/100\n",
      "1/1 [==============================] - 0s 68ms/step - loss: 0.4754 - accuracy: 0.8667 - val_loss: 0.5530 - val_accuracy: 0.7143\n",
      "Epoch 20/100\n",
      "1/1 [==============================] - 0s 62ms/step - loss: 0.4654 - accuracy: 0.8667 - val_loss: 0.5475 - val_accuracy: 0.7143\n",
      "Epoch 21/100\n",
      "1/1 [==============================] - 0s 63ms/step - loss: 0.4556 - accuracy: 0.8667 - val_loss: 0.5422 - val_accuracy: 0.7143\n",
      "Epoch 22/100\n",
      "1/1 [==============================] - 0s 62ms/step - loss: 0.4461 - accuracy: 0.8667 - val_loss: 0.5371 - val_accuracy: 0.7143\n",
      "Epoch 23/100\n",
      "1/1 [==============================] - 0s 61ms/step - loss: 0.4370 - accuracy: 0.9000 - val_loss: 0.5322 - val_accuracy: 0.7143\n",
      "Epoch 24/100\n",
      "1/1 [==============================] - 0s 61ms/step - loss: 0.4280 - accuracy: 0.9000 - val_loss: 0.5275 - val_accuracy: 0.7143\n",
      "Epoch 25/100\n",
      "1/1 [==============================] - 0s 60ms/step - loss: 0.4193 - accuracy: 0.9000 - val_loss: 0.5230 - val_accuracy: 0.7286\n",
      "Epoch 26/100\n",
      "1/1 [==============================] - 0s 58ms/step - loss: 0.4109 - accuracy: 0.9000 - val_loss: 0.5186 - val_accuracy: 0.7286\n",
      "Epoch 27/100\n",
      "1/1 [==============================] - 0s 61ms/step - loss: 0.4027 - accuracy: 0.9000 - val_loss: 0.5145 - val_accuracy: 0.7286\n",
      "Epoch 28/100\n",
      "1/1 [==============================] - 0s 60ms/step - loss: 0.3948 - accuracy: 0.9000 - val_loss: 0.5105 - val_accuracy: 0.7286\n",
      "Epoch 29/100\n",
      "1/1 [==============================] - 0s 62ms/step - loss: 0.3871 - accuracy: 0.9000 - val_loss: 0.5067 - val_accuracy: 0.7286\n",
      "Epoch 30/100\n",
      "1/1 [==============================] - 0s 63ms/step - loss: 0.3797 - accuracy: 0.9000 - val_loss: 0.5031 - val_accuracy: 0.7286\n",
      "Epoch 31/100\n",
      "1/1 [==============================] - 0s 78ms/step - loss: 0.3724 - accuracy: 0.9000 - val_loss: 0.4996 - val_accuracy: 0.7286\n",
      "Epoch 32/100\n",
      "1/1 [==============================] - 0s 64ms/step - loss: 0.3655 - accuracy: 0.9000 - val_loss: 0.4963 - val_accuracy: 0.7286\n",
      "Epoch 33/100\n",
      "1/1 [==============================] - 0s 62ms/step - loss: 0.3587 - accuracy: 0.9000 - val_loss: 0.4932 - val_accuracy: 0.7286\n",
      "Epoch 34/100\n",
      "1/1 [==============================] - 0s 62ms/step - loss: 0.3522 - accuracy: 0.9000 - val_loss: 0.4902 - val_accuracy: 0.7286\n",
      "Epoch 35/100\n",
      "1/1 [==============================] - 0s 62ms/step - loss: 0.3458 - accuracy: 0.9000 - val_loss: 0.4873 - val_accuracy: 0.7286\n",
      "Epoch 36/100\n",
      "1/1 [==============================] - 0s 63ms/step - loss: 0.3397 - accuracy: 0.9000 - val_loss: 0.4846 - val_accuracy: 0.7286\n",
      "Epoch 37/100\n",
      "1/1 [==============================] - 0s 64ms/step - loss: 0.3338 - accuracy: 0.9000 - val_loss: 0.4821 - val_accuracy: 0.7286\n",
      "Epoch 38/100\n",
      "1/1 [==============================] - 0s 61ms/step - loss: 0.3281 - accuracy: 0.9000 - val_loss: 0.4796 - val_accuracy: 0.7286\n",
      "Epoch 39/100\n",
      "1/1 [==============================] - 0s 61ms/step - loss: 0.3226 - accuracy: 0.9000 - val_loss: 0.4774 - val_accuracy: 0.7286\n",
      "Epoch 40/100\n",
      "1/1 [==============================] - 0s 66ms/step - loss: 0.3173 - accuracy: 0.8667 - val_loss: 0.4752 - val_accuracy: 0.7286\n",
      "Epoch 41/100\n",
      "1/1 [==============================] - 0s 75ms/step - loss: 0.3122 - accuracy: 0.9000 - val_loss: 0.4731 - val_accuracy: 0.7286\n",
      "Epoch 42/100\n",
      "1/1 [==============================] - 0s 78ms/step - loss: 0.3073 - accuracy: 0.9000 - val_loss: 0.4712 - val_accuracy: 0.7286\n",
      "Epoch 43/100\n",
      "1/1 [==============================] - 0s 72ms/step - loss: 0.3026 - accuracy: 0.9000 - val_loss: 0.4694 - val_accuracy: 0.7286\n",
      "Epoch 44/100\n",
      "1/1 [==============================] - 0s 69ms/step - loss: 0.2981 - accuracy: 0.9000 - val_loss: 0.4677 - val_accuracy: 0.7286\n",
      "Epoch 45/100\n",
      "1/1 [==============================] - 0s 73ms/step - loss: 0.2937 - accuracy: 0.9000 - val_loss: 0.4661 - val_accuracy: 0.7286\n",
      "Epoch 46/100\n",
      "1/1 [==============================] - 0s 76ms/step - loss: 0.2896 - accuracy: 0.9000 - val_loss: 0.4646 - val_accuracy: 0.7286\n",
      "Epoch 47/100\n",
      "1/1 [==============================] - 0s 69ms/step - loss: 0.2856 - accuracy: 0.9000 - val_loss: 0.4632 - val_accuracy: 0.7286\n",
      "Epoch 48/100\n",
      "1/1 [==============================] - 0s 71ms/step - loss: 0.2817 - accuracy: 0.9000 - val_loss: 0.4619 - val_accuracy: 0.7286\n",
      "Epoch 49/100\n",
      "1/1 [==============================] - 0s 74ms/step - loss: 0.2780 - accuracy: 0.9000 - val_loss: 0.4606 - val_accuracy: 0.7286\n",
      "Epoch 50/100\n",
      "1/1 [==============================] - 0s 70ms/step - loss: 0.2745 - accuracy: 0.9000 - val_loss: 0.4595 - val_accuracy: 0.7286\n",
      "Epoch 51/100\n",
      "1/1 [==============================] - 0s 77ms/step - loss: 0.2711 - accuracy: 0.9000 - val_loss: 0.4584 - val_accuracy: 0.7286\n",
      "Epoch 52/100\n",
      "1/1 [==============================] - 0s 59ms/step - loss: 0.2679 - accuracy: 0.9000 - val_loss: 0.4573 - val_accuracy: 0.7286\n",
      "Epoch 53/100\n",
      "1/1 [==============================] - 0s 75ms/step - loss: 0.2648 - accuracy: 0.8667 - val_loss: 0.4563 - val_accuracy: 0.7286\n",
      "Epoch 54/100\n",
      "1/1 [==============================] - 0s 65ms/step - loss: 0.2618 - accuracy: 0.8667 - val_loss: 0.4554 - val_accuracy: 0.7286\n",
      "Epoch 55/100\n",
      "1/1 [==============================] - 0s 55ms/step - loss: 0.2590 - accuracy: 0.8667 - val_loss: 0.4546 - val_accuracy: 0.7286\n",
      "Epoch 56/100\n",
      "1/1 [==============================] - 0s 59ms/step - loss: 0.2562 - accuracy: 0.8667 - val_loss: 0.4537 - val_accuracy: 0.7429\n",
      "Epoch 57/100\n",
      "1/1 [==============================] - 0s 54ms/step - loss: 0.2536 - accuracy: 0.8667 - val_loss: 0.4530 - val_accuracy: 0.7429\n",
      "Epoch 58/100\n",
      "1/1 [==============================] - 0s 58ms/step - loss: 0.2511 - accuracy: 0.8667 - val_loss: 0.4523 - val_accuracy: 0.7429\n",
      "Epoch 59/100\n"
     ]
    },
    {
     "name": "stdout",
     "output_type": "stream",
     "text": [
      "1/1 [==============================] - 0s 52ms/step - loss: 0.2487 - accuracy: 0.8667 - val_loss: 0.4516 - val_accuracy: 0.7429\n",
      "Epoch 60/100\n",
      "1/1 [==============================] - 0s 56ms/step - loss: 0.2463 - accuracy: 0.8667 - val_loss: 0.4509 - val_accuracy: 0.7429\n",
      "Epoch 61/100\n",
      "1/1 [==============================] - 0s 49ms/step - loss: 0.2441 - accuracy: 0.8667 - val_loss: 0.4503 - val_accuracy: 0.7429\n",
      "Epoch 62/100\n",
      "1/1 [==============================] - 0s 61ms/step - loss: 0.2420 - accuracy: 0.8667 - val_loss: 0.4498 - val_accuracy: 0.7429\n",
      "Epoch 63/100\n",
      "1/1 [==============================] - 0s 58ms/step - loss: 0.2399 - accuracy: 0.8667 - val_loss: 0.4492 - val_accuracy: 0.7429\n",
      "Epoch 64/100\n",
      "1/1 [==============================] - 0s 56ms/step - loss: 0.2379 - accuracy: 0.8667 - val_loss: 0.4487 - val_accuracy: 0.7429\n",
      "Epoch 65/100\n",
      "1/1 [==============================] - 0s 62ms/step - loss: 0.2360 - accuracy: 0.8667 - val_loss: 0.4482 - val_accuracy: 0.7429\n",
      "Epoch 66/100\n",
      "1/1 [==============================] - 0s 58ms/step - loss: 0.2342 - accuracy: 0.8667 - val_loss: 0.4477 - val_accuracy: 0.7429\n",
      "Epoch 67/100\n",
      "1/1 [==============================] - 0s 56ms/step - loss: 0.2325 - accuracy: 0.8667 - val_loss: 0.4472 - val_accuracy: 0.7429\n",
      "Epoch 68/100\n",
      "1/1 [==============================] - 0s 60ms/step - loss: 0.2308 - accuracy: 0.8667 - val_loss: 0.4468 - val_accuracy: 0.7429\n",
      "Epoch 69/100\n",
      "1/1 [==============================] - 0s 59ms/step - loss: 0.2292 - accuracy: 0.8667 - val_loss: 0.4463 - val_accuracy: 0.7429\n",
      "Epoch 70/100\n",
      "1/1 [==============================] - 0s 56ms/step - loss: 0.2276 - accuracy: 0.8667 - val_loss: 0.4459 - val_accuracy: 0.7429\n",
      "Epoch 71/100\n",
      "1/1 [==============================] - 0s 57ms/step - loss: 0.2261 - accuracy: 0.8667 - val_loss: 0.4454 - val_accuracy: 0.7429\n",
      "Epoch 72/100\n",
      "1/1 [==============================] - 0s 55ms/step - loss: 0.2246 - accuracy: 0.8667 - val_loss: 0.4450 - val_accuracy: 0.7429\n",
      "Epoch 73/100\n",
      "1/1 [==============================] - 0s 56ms/step - loss: 0.2233 - accuracy: 0.8667 - val_loss: 0.4446 - val_accuracy: 0.7429\n",
      "Epoch 74/100\n",
      "1/1 [==============================] - 0s 54ms/step - loss: 0.2219 - accuracy: 0.8667 - val_loss: 0.4442 - val_accuracy: 0.7429\n",
      "Epoch 75/100\n",
      "1/1 [==============================] - 0s 56ms/step - loss: 0.2206 - accuracy: 0.8667 - val_loss: 0.4438 - val_accuracy: 0.7429\n",
      "Epoch 76/100\n",
      "1/1 [==============================] - 0s 57ms/step - loss: 0.2193 - accuracy: 0.8667 - val_loss: 0.4434 - val_accuracy: 0.7429\n",
      "Epoch 77/100\n",
      "1/1 [==============================] - 0s 54ms/step - loss: 0.2181 - accuracy: 0.8667 - val_loss: 0.4430 - val_accuracy: 0.7429\n",
      "Epoch 78/100\n",
      "1/1 [==============================] - 0s 50ms/step - loss: 0.2169 - accuracy: 0.8667 - val_loss: 0.4426 - val_accuracy: 0.7429\n",
      "Epoch 79/100\n",
      "1/1 [==============================] - 0s 59ms/step - loss: 0.2158 - accuracy: 0.8667 - val_loss: 0.4421 - val_accuracy: 0.7429\n",
      "Epoch 80/100\n",
      "1/1 [==============================] - 0s 59ms/step - loss: 0.2147 - accuracy: 0.8667 - val_loss: 0.4417 - val_accuracy: 0.7429\n",
      "Epoch 81/100\n",
      "1/1 [==============================] - 0s 54ms/step - loss: 0.2136 - accuracy: 0.9000 - val_loss: 0.4413 - val_accuracy: 0.7429\n",
      "Epoch 82/100\n",
      "1/1 [==============================] - 0s 54ms/step - loss: 0.2125 - accuracy: 0.9000 - val_loss: 0.4409 - val_accuracy: 0.7429\n",
      "Epoch 83/100\n",
      "1/1 [==============================] - 0s 54ms/step - loss: 0.2115 - accuracy: 0.9000 - val_loss: 0.4404 - val_accuracy: 0.7429\n",
      "Epoch 84/100\n",
      "1/1 [==============================] - 0s 56ms/step - loss: 0.2106 - accuracy: 0.9000 - val_loss: 0.4400 - val_accuracy: 0.7429\n",
      "Epoch 85/100\n",
      "1/1 [==============================] - 0s 53ms/step - loss: 0.2096 - accuracy: 0.9000 - val_loss: 0.4395 - val_accuracy: 0.7429\n",
      "Epoch 86/100\n",
      "1/1 [==============================] - 0s 57ms/step - loss: 0.2087 - accuracy: 0.9000 - val_loss: 0.4390 - val_accuracy: 0.7429\n",
      "Epoch 87/100\n",
      "1/1 [==============================] - 0s 51ms/step - loss: 0.2077 - accuracy: 0.9000 - val_loss: 0.4386 - val_accuracy: 0.7429\n",
      "Epoch 88/100\n",
      "1/1 [==============================] - 0s 61ms/step - loss: 0.2069 - accuracy: 0.9000 - val_loss: 0.4381 - val_accuracy: 0.7429\n",
      "Epoch 89/100\n",
      "1/1 [==============================] - 0s 56ms/step - loss: 0.2060 - accuracy: 0.9000 - val_loss: 0.4376 - val_accuracy: 0.7429\n",
      "Epoch 90/100\n",
      "1/1 [==============================] - 0s 54ms/step - loss: 0.2051 - accuracy: 0.9000 - val_loss: 0.4370 - val_accuracy: 0.7429\n",
      "Epoch 91/100\n",
      "1/1 [==============================] - 0s 52ms/step - loss: 0.2043 - accuracy: 0.9000 - val_loss: 0.4365 - val_accuracy: 0.7429\n",
      "Epoch 92/100\n",
      "1/1 [==============================] - 0s 61ms/step - loss: 0.2035 - accuracy: 0.9000 - val_loss: 0.4360 - val_accuracy: 0.7429\n",
      "Epoch 93/100\n",
      "1/1 [==============================] - 0s 56ms/step - loss: 0.2027 - accuracy: 0.9000 - val_loss: 0.4355 - val_accuracy: 0.7429\n",
      "Epoch 94/100\n",
      "1/1 [==============================] - 0s 52ms/step - loss: 0.2019 - accuracy: 0.9000 - val_loss: 0.4349 - val_accuracy: 0.7429\n",
      "Epoch 95/100\n",
      "1/1 [==============================] - 0s 58ms/step - loss: 0.2012 - accuracy: 0.9000 - val_loss: 0.4343 - val_accuracy: 0.7429\n",
      "Epoch 96/100\n",
      "1/1 [==============================] - 0s 58ms/step - loss: 0.2004 - accuracy: 0.9000 - val_loss: 0.4337 - val_accuracy: 0.7429\n",
      "Epoch 97/100\n",
      "1/1 [==============================] - 0s 56ms/step - loss: 0.1997 - accuracy: 0.9000 - val_loss: 0.4331 - val_accuracy: 0.7429\n",
      "Epoch 98/100\n",
      "1/1 [==============================] - 0s 54ms/step - loss: 0.1990 - accuracy: 0.9000 - val_loss: 0.4325 - val_accuracy: 0.7429\n",
      "Epoch 99/100\n",
      "1/1 [==============================] - 0s 49ms/step - loss: 0.1983 - accuracy: 0.9000 - val_loss: 0.4319 - val_accuracy: 0.7429\n",
      "Epoch 100/100\n",
      "1/1 [==============================] - 0s 61ms/step - loss: 0.1976 - accuracy: 0.9000 - val_loss: 0.4312 - val_accuracy: 0.7571\n"
     ]
    }
   ],
   "source": [
    "history=model.fit(trainX,trainY,validation_data=(testX,testY),epochs=100)\n"
   ]
  },
  {
   "cell_type": "code",
   "execution_count": 14,
   "metadata": {
    "colab": {
     "base_uri": "https://localhost:8080/",
     "height": 269
    },
    "id": "zNGJKQbUaFaR",
    "outputId": "da6d90ef-1142-423f-a951-e5d8de3232b1"
   },
   "outputs": [
    {
     "data": {
      "image/png": "[encoded data removed]",
      "text/plain": [
       "<Figure size 640x480 with 1 Axes>"
      ]
     },
     "metadata": {},
     "output_type": "display_data"
    }
   ],
   "source": [
    "pyplot.plot(history.history['accuracy'],label='train')\n",
    "pyplot.plot(history.history['val_accuracy'],label='test')\n",
    "pyplot.legend()\n",
    "pyplot.show()"
   ]
  },
  {
   "cell_type": "markdown",
   "metadata": {
    "id": "1Xy42kAGaeMR"
   },
   "source": [
    "Lets apply l1 and l2 together to the model using below code"
   ]
  },
  {
   "cell_type": "code",
   "execution_count": 15,
   "metadata": {
    "id": "YIQT9SzkaJky"
   },
   "outputs": [],
   "source": [
    "from keras.regularizers import l1_l2"
   ]
  },
  {
   "cell_type": "code",
   "execution_count": 16,
   "metadata": {
    "id": "5tpBFd2caYtV"
   },
   "outputs": [],
   "source": [
    "model=Sequential()\n",
    "model.add(Dense(500,input_dim=2,activation='relu',kernel_regularizer=l1_l2(l1=0.001,l2=0.001)))\n",
    "model.add(Dense(1,activation='sigmoid'))\n",
    "model.compile(loss='binary_crossentropy',optimizer='adam',metrics=['accuracy'])\n"
   ]
  },
  {
   "cell_type": "code",
   "execution_count": 17,
   "metadata": {
    "colab": {
     "base_uri": "https://localhost:8080/"
    },
    "id": "CCb2pjLWaxaJ",
    "outputId": "a6da2e61-0061-41aa-db1e-94cd62e10602"
   },
   "outputs": [
    {
     "name": "stdout",
     "output_type": "stream",
     "text": [
      "Model: \"sequential_2\"\n",
      "_________________________________________________________________\n",
      " Layer (type)                Output Shape              Param #   \n",
      "=================================================================\n",
      " dense_4 (Dense)             (None, 500)               1500      \n",
      "                                                                 \n",
      " dense_5 (Dense)             (None, 1)                 501       \n",
      "                                                                 \n",
      "=================================================================\n",
      "Total params: 2,001\n",
      "Trainable params: 2,001\n",
      "Non-trainable params: 0\n",
      "_________________________________________________________________\n"
     ]
    }
   ],
   "source": [
    "model.summary()"
   ]
  },
  {
   "cell_type": "code",
   "execution_count": 18,
   "metadata": {
    "colab": {
     "base_uri": "https://localhost:8080/"
    },
    "id": "56Tgqz40avxT",
    "outputId": "e30fe524-6963-4d5a-ab44-1384248636c0"
   },
   "outputs": [
    {
     "name": "stdout",
     "output_type": "stream",
     "text": [
      "Epoch 1/100\n",
      "1/1 [==============================] - 1s 1s/step - loss: 0.7544 - accuracy: 0.4000 - val_loss: 0.7380 - val_accuracy: 0.8143\n",
      "Epoch 2/100\n",
      "1/1 [==============================] - 0s 64ms/step - loss: 0.7374 - accuracy: 0.8667 - val_loss: 0.7271 - val_accuracy: 0.8000\n",
      "Epoch 3/100\n",
      "1/1 [==============================] - 0s 64ms/step - loss: 0.7208 - accuracy: 0.8667 - val_loss: 0.7166 - val_accuracy: 0.7857\n",
      "Epoch 4/100\n",
      "1/1 [==============================] - 0s 62ms/step - loss: 0.7048 - accuracy: 0.8667 - val_loss: 0.7065 - val_accuracy: 0.7571\n",
      "Epoch 5/100\n",
      "1/1 [==============================] - 0s 62ms/step - loss: 0.6892 - accuracy: 0.8667 - val_loss: 0.6968 - val_accuracy: 0.7429\n",
      "Epoch 6/100\n",
      "1/1 [==============================] - 0s 63ms/step - loss: 0.6741 - accuracy: 0.8667 - val_loss: 0.6874 - val_accuracy: 0.7429\n",
      "Epoch 7/100\n",
      "1/1 [==============================] - 0s 66ms/step - loss: 0.6594 - accuracy: 0.9000 - val_loss: 0.6784 - val_accuracy: 0.7286\n",
      "Epoch 8/100\n",
      "1/1 [==============================] - 0s 65ms/step - loss: 0.6452 - accuracy: 0.9000 - val_loss: 0.6697 - val_accuracy: 0.7286\n",
      "Epoch 9/100\n",
      "1/1 [==============================] - 0s 64ms/step - loss: 0.6315 - accuracy: 0.9000 - val_loss: 0.6615 - val_accuracy: 0.7286\n",
      "Epoch 10/100\n",
      "1/1 [==============================] - 0s 64ms/step - loss: 0.6182 - accuracy: 0.9333 - val_loss: 0.6536 - val_accuracy: 0.7286\n",
      "Epoch 11/100\n",
      "1/1 [==============================] - 0s 78ms/step - loss: 0.6052 - accuracy: 0.9333 - val_loss: 0.6460 - val_accuracy: 0.7286\n",
      "Epoch 12/100\n",
      "1/1 [==============================] - 0s 67ms/step - loss: 0.5927 - accuracy: 0.9333 - val_loss: 0.6387 - val_accuracy: 0.7286\n",
      "Epoch 13/100\n",
      "1/1 [==============================] - 0s 61ms/step - loss: 0.5805 - accuracy: 0.9333 - val_loss: 0.6317 - val_accuracy: 0.7286\n",
      "Epoch 14/100\n",
      "1/1 [==============================] - 0s 62ms/step - loss: 0.5687 - accuracy: 0.9000 - val_loss: 0.6251 - val_accuracy: 0.7286\n",
      "Epoch 15/100\n",
      "1/1 [==============================] - 0s 61ms/step - loss: 0.5573 - accuracy: 0.9000 - val_loss: 0.6187 - val_accuracy: 0.7286\n",
      "Epoch 16/100\n",
      "1/1 [==============================] - 0s 61ms/step - loss: 0.5461 - accuracy: 0.9000 - val_loss: 0.6126 - val_accuracy: 0.7286\n",
      "Epoch 17/100\n",
      "1/1 [==============================] - 0s 75ms/step - loss: 0.5354 - accuracy: 0.9000 - val_loss: 0.6068 - val_accuracy: 0.7286\n",
      "Epoch 18/100\n",
      "1/1 [==============================] - 0s 61ms/step - loss: 0.5250 - accuracy: 0.9000 - val_loss: 0.6012 - val_accuracy: 0.7286\n",
      "Epoch 19/100\n",
      "1/1 [==============================] - 0s 61ms/step - loss: 0.5149 - accuracy: 0.9000 - val_loss: 0.5959 - val_accuracy: 0.7286\n",
      "Epoch 20/100\n",
      "1/1 [==============================] - 0s 67ms/step - loss: 0.5052 - accuracy: 0.9000 - val_loss: 0.5909 - val_accuracy: 0.7286\n",
      "Epoch 21/100\n",
      "1/1 [==============================] - 0s 68ms/step - loss: 0.4957 - accuracy: 0.9000 - val_loss: 0.5861 - val_accuracy: 0.7286\n",
      "Epoch 22/100\n",
      "1/1 [==============================] - 0s 67ms/step - loss: 0.4866 - accuracy: 0.9000 - val_loss: 0.5816 - val_accuracy: 0.7286\n",
      "Epoch 23/100\n",
      "1/1 [==============================] - 0s 67ms/step - loss: 0.4778 - accuracy: 0.9000 - val_loss: 0.5773 - val_accuracy: 0.7286\n",
      "Epoch 24/100\n",
      "1/1 [==============================] - 0s 66ms/step - loss: 0.4693 - accuracy: 0.9000 - val_loss: 0.5733 - val_accuracy: 0.7286\n",
      "Epoch 25/100\n",
      "1/1 [==============================] - 0s 70ms/step - loss: 0.4611 - accuracy: 0.9000 - val_loss: 0.5694 - val_accuracy: 0.7286\n",
      "Epoch 26/100\n",
      "1/1 [==============================] - 0s 66ms/step - loss: 0.4532 - accuracy: 0.9000 - val_loss: 0.5657 - val_accuracy: 0.7286\n",
      "Epoch 27/100\n",
      "1/1 [==============================] - 0s 71ms/step - loss: 0.4455 - accuracy: 0.9000 - val_loss: 0.5623 - val_accuracy: 0.7286\n",
      "Epoch 28/100\n",
      "1/1 [==============================] - 0s 69ms/step - loss: 0.4382 - accuracy: 0.9000 - val_loss: 0.5590 - val_accuracy: 0.7286\n",
      "Epoch 29/100\n",
      "1/1 [==============================] - 0s 61ms/step - loss: 0.4311 - accuracy: 0.9000 - val_loss: 0.5559 - val_accuracy: 0.7286\n",
      "Epoch 30/100\n",
      "1/1 [==============================] - 0s 66ms/step - loss: 0.4242 - accuracy: 0.9000 - val_loss: 0.5530 - val_accuracy: 0.7286\n",
      "Epoch 31/100\n",
      "1/1 [==============================] - 0s 62ms/step - loss: 0.4176 - accuracy: 0.9000 - val_loss: 0.5502 - val_accuracy: 0.7286\n",
      "Epoch 32/100\n",
      "1/1 [==============================] - 0s 61ms/step - loss: 0.4113 - accuracy: 0.9000 - val_loss: 0.5476 - val_accuracy: 0.7286\n",
      "Epoch 33/100\n",
      "1/1 [==============================] - 0s 58ms/step - loss: 0.4051 - accuracy: 0.9000 - val_loss: 0.5452 - val_accuracy: 0.7286\n",
      "Epoch 34/100\n",
      "1/1 [==============================] - 0s 61ms/step - loss: 0.3992 - accuracy: 0.9000 - val_loss: 0.5429 - val_accuracy: 0.7286\n",
      "Epoch 35/100\n",
      "1/1 [==============================] - 0s 61ms/step - loss: 0.3936 - accuracy: 0.9000 - val_loss: 0.5407 - val_accuracy: 0.7286\n",
      "Epoch 36/100\n",
      "1/1 [==============================] - 0s 60ms/step - loss: 0.3882 - accuracy: 0.9000 - val_loss: 0.5387 - val_accuracy: 0.7286\n",
      "Epoch 37/100\n",
      "1/1 [==============================] - 0s 63ms/step - loss: 0.3829 - accuracy: 0.9333 - val_loss: 0.5368 - val_accuracy: 0.7286\n",
      "Epoch 38/100\n",
      "1/1 [==============================] - 0s 60ms/step - loss: 0.3779 - accuracy: 0.9333 - val_loss: 0.5350 - val_accuracy: 0.7286\n",
      "Epoch 39/100\n",
      "1/1 [==============================] - 0s 63ms/step - loss: 0.3731 - accuracy: 0.9333 - val_loss: 0.5333 - val_accuracy: 0.7286\n",
      "Epoch 40/100\n",
      "1/1 [==============================] - 0s 63ms/step - loss: 0.3685 - accuracy: 0.9333 - val_loss: 0.5317 - val_accuracy: 0.7286\n",
      "Epoch 41/100\n",
      "1/1 [==============================] - 0s 61ms/step - loss: 0.3641 - accuracy: 0.9333 - val_loss: 0.5302 - val_accuracy: 0.7286\n",
      "Epoch 42/100\n",
      "1/1 [==============================] - 0s 62ms/step - loss: 0.3598 - accuracy: 0.9333 - val_loss: 0.5287 - val_accuracy: 0.7286\n",
      "Epoch 43/100\n",
      "1/1 [==============================] - 0s 66ms/step - loss: 0.3558 - accuracy: 0.9333 - val_loss: 0.5273 - val_accuracy: 0.7286\n",
      "Epoch 44/100\n",
      "1/1 [==============================] - 0s 65ms/step - loss: 0.3519 - accuracy: 0.9000 - val_loss: 0.5260 - val_accuracy: 0.7286\n",
      "Epoch 45/100\n",
      "1/1 [==============================] - 0s 62ms/step - loss: 0.3481 - accuracy: 0.9000 - val_loss: 0.5248 - val_accuracy: 0.7286\n",
      "Epoch 46/100\n",
      "1/1 [==============================] - 0s 66ms/step - loss: 0.3445 - accuracy: 0.9000 - val_loss: 0.5236 - val_accuracy: 0.7286\n",
      "Epoch 47/100\n",
      "1/1 [==============================] - 0s 62ms/step - loss: 0.3411 - accuracy: 0.9000 - val_loss: 0.5225 - val_accuracy: 0.7286\n",
      "Epoch 48/100\n",
      "1/1 [==============================] - 0s 63ms/step - loss: 0.3377 - accuracy: 0.9000 - val_loss: 0.5214 - val_accuracy: 0.7286\n",
      "Epoch 49/100\n",
      "1/1 [==============================] - 0s 62ms/step - loss: 0.3346 - accuracy: 0.9000 - val_loss: 0.5203 - val_accuracy: 0.7286\n",
      "Epoch 50/100\n",
      "1/1 [==============================] - 0s 63ms/step - loss: 0.3315 - accuracy: 0.9000 - val_loss: 0.5193 - val_accuracy: 0.7286\n",
      "Epoch 51/100\n",
      "1/1 [==============================] - 0s 61ms/step - loss: 0.3285 - accuracy: 0.9000 - val_loss: 0.5182 - val_accuracy: 0.7286\n",
      "Epoch 52/100\n",
      "1/1 [==============================] - 0s 62ms/step - loss: 0.3257 - accuracy: 0.9000 - val_loss: 0.5172 - val_accuracy: 0.7286\n",
      "Epoch 53/100\n",
      "1/1 [==============================] - 0s 66ms/step - loss: 0.3230 - accuracy: 0.9000 - val_loss: 0.5163 - val_accuracy: 0.7286\n",
      "Epoch 54/100\n",
      "1/1 [==============================] - 0s 69ms/step - loss: 0.3203 - accuracy: 0.9000 - val_loss: 0.5153 - val_accuracy: 0.7286\n",
      "Epoch 55/100\n",
      "1/1 [==============================] - 0s 70ms/step - loss: 0.3178 - accuracy: 0.9000 - val_loss: 0.5144 - val_accuracy: 0.7286\n",
      "Epoch 56/100\n",
      "1/1 [==============================] - 0s 66ms/step - loss: 0.3154 - accuracy: 0.9000 - val_loss: 0.5134 - val_accuracy: 0.7286\n",
      "Epoch 57/100\n",
      "1/1 [==============================] - 0s 67ms/step - loss: 0.3130 - accuracy: 0.9000 - val_loss: 0.5125 - val_accuracy: 0.7286\n",
      "Epoch 58/100\n",
      "1/1 [==============================] - 0s 64ms/step - loss: 0.3108 - accuracy: 0.9000 - val_loss: 0.5115 - val_accuracy: 0.7429\n",
      "Epoch 59/100\n"
     ]
    },
    {
     "name": "stdout",
     "output_type": "stream",
     "text": [
      "1/1 [==============================] - 0s 61ms/step - loss: 0.3086 - accuracy: 0.9000 - val_loss: 0.5106 - val_accuracy: 0.7429\n",
      "Epoch 60/100\n",
      "1/1 [==============================] - 0s 59ms/step - loss: 0.3065 - accuracy: 0.9000 - val_loss: 0.5096 - val_accuracy: 0.7429\n",
      "Epoch 61/100\n",
      "1/1 [==============================] - 0s 60ms/step - loss: 0.3044 - accuracy: 0.9000 - val_loss: 0.5087 - val_accuracy: 0.7429\n",
      "Epoch 62/100\n",
      "1/1 [==============================] - 0s 61ms/step - loss: 0.3024 - accuracy: 0.9000 - val_loss: 0.5077 - val_accuracy: 0.7429\n",
      "Epoch 63/100\n",
      "1/1 [==============================] - 0s 66ms/step - loss: 0.3005 - accuracy: 0.9000 - val_loss: 0.5068 - val_accuracy: 0.7429\n",
      "Epoch 64/100\n",
      "1/1 [==============================] - 0s 67ms/step - loss: 0.2987 - accuracy: 0.9000 - val_loss: 0.5058 - val_accuracy: 0.7429\n",
      "Epoch 65/100\n",
      "1/1 [==============================] - 0s 63ms/step - loss: 0.2969 - accuracy: 0.9000 - val_loss: 0.5048 - val_accuracy: 0.7429\n",
      "Epoch 66/100\n",
      "1/1 [==============================] - 0s 64ms/step - loss: 0.2952 - accuracy: 0.9000 - val_loss: 0.5039 - val_accuracy: 0.7429\n",
      "Epoch 67/100\n",
      "1/1 [==============================] - 0s 75ms/step - loss: 0.2936 - accuracy: 0.9000 - val_loss: 0.5029 - val_accuracy: 0.7429\n",
      "Epoch 68/100\n",
      "1/1 [==============================] - 0s 69ms/step - loss: 0.2920 - accuracy: 0.9000 - val_loss: 0.5020 - val_accuracy: 0.7429\n",
      "Epoch 69/100\n",
      "1/1 [==============================] - 0s 64ms/step - loss: 0.2904 - accuracy: 0.9000 - val_loss: 0.5010 - val_accuracy: 0.7429\n",
      "Epoch 70/100\n",
      "1/1 [==============================] - 0s 59ms/step - loss: 0.2889 - accuracy: 0.9000 - val_loss: 0.5001 - val_accuracy: 0.7429\n",
      "Epoch 71/100\n",
      "1/1 [==============================] - 0s 62ms/step - loss: 0.2875 - accuracy: 0.9000 - val_loss: 0.4991 - val_accuracy: 0.7429\n",
      "Epoch 72/100\n",
      "1/1 [==============================] - 0s 60ms/step - loss: 0.2861 - accuracy: 0.9000 - val_loss: 0.4982 - val_accuracy: 0.7429\n",
      "Epoch 73/100\n",
      "1/1 [==============================] - 0s 60ms/step - loss: 0.2848 - accuracy: 0.9000 - val_loss: 0.4972 - val_accuracy: 0.7429\n",
      "Epoch 74/100\n",
      "1/1 [==============================] - 0s 67ms/step - loss: 0.2834 - accuracy: 0.9000 - val_loss: 0.4962 - val_accuracy: 0.7429\n",
      "Epoch 75/100\n",
      "1/1 [==============================] - 0s 60ms/step - loss: 0.2822 - accuracy: 0.9000 - val_loss: 0.4953 - val_accuracy: 0.7429\n",
      "Epoch 76/100\n",
      "1/1 [==============================] - 0s 70ms/step - loss: 0.2809 - accuracy: 0.9000 - val_loss: 0.4943 - val_accuracy: 0.7429\n",
      "Epoch 77/100\n",
      "1/1 [==============================] - 0s 60ms/step - loss: 0.2797 - accuracy: 0.9000 - val_loss: 0.4934 - val_accuracy: 0.7429\n",
      "Epoch 78/100\n",
      "1/1 [==============================] - 0s 59ms/step - loss: 0.2785 - accuracy: 0.9000 - val_loss: 0.4924 - val_accuracy: 0.7429\n",
      "Epoch 79/100\n",
      "1/1 [==============================] - 0s 60ms/step - loss: 0.2773 - accuracy: 0.9000 - val_loss: 0.4915 - val_accuracy: 0.7429\n",
      "Epoch 80/100\n",
      "1/1 [==============================] - 0s 60ms/step - loss: 0.2762 - accuracy: 0.9000 - val_loss: 0.4905 - val_accuracy: 0.7429\n",
      "Epoch 81/100\n",
      "1/1 [==============================] - 0s 62ms/step - loss: 0.2750 - accuracy: 0.9000 - val_loss: 0.4896 - val_accuracy: 0.7429\n",
      "Epoch 82/100\n",
      "1/1 [==============================] - 0s 62ms/step - loss: 0.2739 - accuracy: 0.9000 - val_loss: 0.4887 - val_accuracy: 0.7429\n",
      "Epoch 83/100\n",
      "1/1 [==============================] - 0s 60ms/step - loss: 0.2729 - accuracy: 0.9000 - val_loss: 0.4877 - val_accuracy: 0.7429\n",
      "Epoch 84/100\n",
      "1/1 [==============================] - 0s 64ms/step - loss: 0.2718 - accuracy: 0.9000 - val_loss: 0.4868 - val_accuracy: 0.7429\n",
      "Epoch 85/100\n",
      "1/1 [==============================] - 0s 63ms/step - loss: 0.2708 - accuracy: 0.9000 - val_loss: 0.4858 - val_accuracy: 0.7429\n",
      "Epoch 86/100\n",
      "1/1 [==============================] - 0s 63ms/step - loss: 0.2698 - accuracy: 0.9000 - val_loss: 0.4849 - val_accuracy: 0.7429\n",
      "Epoch 87/100\n",
      "1/1 [==============================] - 0s 62ms/step - loss: 0.2688 - accuracy: 0.9000 - val_loss: 0.4840 - val_accuracy: 0.7429\n",
      "Epoch 88/100\n",
      "1/1 [==============================] - 0s 63ms/step - loss: 0.2678 - accuracy: 0.9000 - val_loss: 0.4831 - val_accuracy: 0.7429\n",
      "Epoch 89/100\n",
      "1/1 [==============================] - 0s 63ms/step - loss: 0.2668 - accuracy: 0.9000 - val_loss: 0.4821 - val_accuracy: 0.7429\n",
      "Epoch 90/100\n",
      "1/1 [==============================] - 0s 65ms/step - loss: 0.2659 - accuracy: 0.9000 - val_loss: 0.4812 - val_accuracy: 0.7571\n",
      "Epoch 91/100\n",
      "1/1 [==============================] - 0s 65ms/step - loss: 0.2650 - accuracy: 0.9000 - val_loss: 0.4804 - val_accuracy: 0.7571\n",
      "Epoch 92/100\n",
      "1/1 [==============================] - 0s 66ms/step - loss: 0.2641 - accuracy: 0.9000 - val_loss: 0.4795 - val_accuracy: 0.7571\n",
      "Epoch 93/100\n",
      "1/1 [==============================] - 0s 67ms/step - loss: 0.2632 - accuracy: 0.9000 - val_loss: 0.4786 - val_accuracy: 0.7571\n",
      "Epoch 94/100\n",
      "1/1 [==============================] - 0s 61ms/step - loss: 0.2623 - accuracy: 0.9000 - val_loss: 0.4777 - val_accuracy: 0.7571\n",
      "Epoch 95/100\n",
      "1/1 [==============================] - 0s 60ms/step - loss: 0.2615 - accuracy: 0.9000 - val_loss: 0.4769 - val_accuracy: 0.7571\n",
      "Epoch 96/100\n",
      "1/1 [==============================] - 0s 61ms/step - loss: 0.2607 - accuracy: 0.9000 - val_loss: 0.4760 - val_accuracy: 0.7571\n",
      "Epoch 97/100\n",
      "1/1 [==============================] - 0s 62ms/step - loss: 0.2598 - accuracy: 0.9000 - val_loss: 0.4752 - val_accuracy: 0.7571\n",
      "Epoch 98/100\n",
      "1/1 [==============================] - 0s 63ms/step - loss: 0.2590 - accuracy: 0.9000 - val_loss: 0.4743 - val_accuracy: 0.7571\n",
      "Epoch 99/100\n",
      "1/1 [==============================] - 0s 62ms/step - loss: 0.2583 - accuracy: 0.9000 - val_loss: 0.4735 - val_accuracy: 0.7571\n",
      "Epoch 100/100\n",
      "1/1 [==============================] - 0s 61ms/step - loss: 0.2575 - accuracy: 0.9000 - val_loss: 0.4727 - val_accuracy: 0.7571\n"
     ]
    }
   ],
   "source": [
    "history=model.fit(trainX,trainY,validation_data=(testX,testY),epochs=100)\n"
   ]
  },
  {
   "cell_type": "code",
   "execution_count": 19,
   "metadata": {
    "colab": {
     "base_uri": "https://localhost:8080/",
     "height": 265
    },
    "id": "PrsLgwxha1y_",
    "outputId": "ebcc61b1-40ad-4bd4-8d04-f7124430725c"
   },
   "outputs": [
    {
     "data": {
      "image/png": "[encoded data removed]",
      "text/plain": [
       "<Figure size 640x480 with 1 Axes>"
      ]
     },
     "metadata": {},
     "output_type": "display_data"
    }
   ],
   "source": [
    "pyplot.plot(history.history['accuracy'],label='train')\n",
    "pyplot.plot(history.history['val_accuracy'],label='test')\n",
    "pyplot.legend()\n",
    "pyplot.show()"
   ]
  },
  {
   "cell_type": "code",
   "execution_count": null,
   "metadata": {
    "id": "rIVup59Pa4BW"
   },
   "outputs": [],
   "source": []
  },
  {
   "cell_type": "code",
   "execution_count": null,
   "metadata": {},
   "outputs": [],
   "source": []
  }
 ],
 "metadata": {
  "colab": {
   "provenance": []
  },
  "kernelspec": {
   "display_name": "Python 3 (ipykernel)",
   "language": "python",
   "name": "python3"
  },
  "language_info": {
   "codemirror_mode": {
    "name": "ipython",
    "version": 3
   },
   "file_extension": ".py",
   "mimetype": "text/x-python",
   "name": "python",
   "nbconvert_exporter": "python",
   "pygments_lexer": "ipython3",
   "version": "3.11.4"
  }
 },
 "nbformat": 4,
 "nbformat_minor": 1
}
