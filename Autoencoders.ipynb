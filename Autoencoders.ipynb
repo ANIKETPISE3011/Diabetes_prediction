{
 "cells": [
  {
   "cell_type": "code",
   "execution_count": 3,
   "metadata": {
    "id": "sEyqRuJHYFX4"
   },
   "outputs": [],
   "source": [
    "import keras\n",
    "from keras import layers"
   ]
  },
  {
   "cell_type": "code",
   "execution_count": 4,
   "metadata": {
    "id": "6uQfRXV9co_7"
   },
   "outputs": [],
   "source": [
    "# This is the size of our encoded representations\n",
    "encoding_dim = 32  # 32 floats -> compression of factor 24.5, assuming the input is 784 floats\n",
    "\n",
    "# This is our input image\n",
    "input_img = keras.Input(shape=(784,))\n",
    "# \"encoded\" is the encoded representation of the input\n",
    "encoded = layers.Dense(encoding_dim, activation='relu')(input_img)\n",
    "# \"decoded\" is the lossy reconstruction of the input\n",
    "decoded = layers.Dense(784, activation='sigmoid')(encoded)"
   ]
  },
  {
   "cell_type": "code",
   "execution_count": 5,
   "metadata": {
    "id": "_tb25xBYcr_H"
   },
   "outputs": [],
   "source": [
    "# This model maps an input to its reconstruction\n",
    "autoencoder = keras.Model(input_img, decoded)"
   ]
  },
  {
   "cell_type": "code",
   "execution_count": 6,
   "metadata": {
    "id": "Ly_i8V99c_pl"
   },
   "outputs": [],
   "source": [
    "#Let's also create a separate encoder model:\n",
    "\n",
    "# This model maps an input to its encoded representation\n",
    "encoder = keras.Model(input_img, encoded)"
   ]
  },
  {
   "cell_type": "code",
   "execution_count": 7,
   "metadata": {
    "id": "RkzFniOGdRGI"
   },
   "outputs": [],
   "source": [
    "# This is our encoded (32-dimensional) input\n",
    "encoded_input = keras.Input(shape=(encoding_dim,))\n",
    "# Retrieve the last layer of the autoencoder model\n",
    "decoder_layer = autoencoder.layers[-1]\n",
    "# Create the decoder model\n",
    "decoder = keras.Model(encoded_input, decoder_layer(encoded_input))"
   ]
  },
  {
   "cell_type": "code",
   "execution_count": 8,
   "metadata": {
    "id": "vQVLG3Y_dfQd"
   },
   "outputs": [],
   "source": [
    "#Now let's train our autoencoder to reconstruct MNIST digits.\n",
    "\n",
    "#First, we'll configure our model to use a per-pixel binary crossentropy loss, and the Adam optimizer:\n",
    "\n",
    "autoencoder.compile(optimizer='adam', loss='binary_crossentropy')"
   ]
  },
  {
   "cell_type": "code",
   "execution_count": 9,
   "metadata": {
    "colab": {
     "base_uri": "https://localhost:8080/"
    },
    "id": "RiajtJ3kdk8V",
    "outputId": "240f5475-fcb4-46da-fb2c-d474ea1a4596"
   },
   "outputs": [],
   "source": [
    "#Let's prepare our input data. We're using MNIST digits, and we're discarding the labels (since we're only interested in encoding/decoding the input images).\n",
    "\n",
    "from keras.datasets import mnist\n",
    "import numpy as np\n",
    "(x_train, _), (x_test, _) = mnist.load_data()"
   ]
  },
  {
   "cell_type": "code",
   "execution_count": 10,
   "metadata": {
    "colab": {
     "base_uri": "https://localhost:8080/"
    },
    "id": "V2FmGduGdphf",
    "outputId": "8b543387-a232-44b1-dc4c-eb2d46875c15"
   },
   "outputs": [
    {
     "name": "stdout",
     "output_type": "stream",
     "text": [
      "(60000, 784)\n",
      "(10000, 784)\n"
     ]
    }
   ],
   "source": [
    "# We will normalize all values between 0 and 1 and we will flatten the 28x28 images into vectors of size 784.\n",
    "\n",
    "x_train = x_train.astype('float32') / 255.\n",
    "x_test = x_test.astype('float32') / 255.\n",
    "x_train = x_train.reshape((len(x_train), np.prod(x_train.shape[1:])))\n",
    "x_test = x_test.reshape((len(x_test), np.prod(x_test.shape[1:])))\n",
    "print(x_train.shape)\n",
    "print(x_test.shape)"
   ]
  },
  {
   "cell_type": "code",
   "execution_count": 11,
   "metadata": {
    "colab": {
     "base_uri": "https://localhost:8080/"
    },
    "id": "dbzumncBduFI",
    "outputId": "d9471f0f-c663-4064-d3b4-f63c6cdcde28"
   },
   "outputs": [
    {
     "name": "stdout",
     "output_type": "stream",
     "text": [
      "Epoch 1/50\n",
      "235/235 [==============================] - 3s 9ms/step - loss: 0.2745 - val_loss: 0.1897\n",
      "Epoch 2/50\n",
      "235/235 [==============================] - 2s 8ms/step - loss: 0.1716 - val_loss: 0.1546\n",
      "Epoch 3/50\n",
      "235/235 [==============================] - 2s 8ms/step - loss: 0.1449 - val_loss: 0.1342\n",
      "Epoch 4/50\n",
      "235/235 [==============================] - 2s 9ms/step - loss: 0.1291 - val_loss: 0.1221\n",
      "Epoch 5/50\n",
      "235/235 [==============================] - 2s 8ms/step - loss: 0.1195 - val_loss: 0.1145\n",
      "Epoch 6/50\n",
      "235/235 [==============================] - 2s 8ms/step - loss: 0.1127 - val_loss: 0.1084\n",
      "Epoch 7/50\n",
      "235/235 [==============================] - 2s 9ms/step - loss: 0.1073 - val_loss: 0.1037\n",
      "Epoch 8/50\n",
      "235/235 [==============================] - 3s 11ms/step - loss: 0.1031 - val_loss: 0.1002\n",
      "Epoch 9/50\n",
      "235/235 [==============================] - 3s 11ms/step - loss: 0.1000 - val_loss: 0.0976\n",
      "Epoch 10/50\n",
      "235/235 [==============================] - 3s 11ms/step - loss: 0.0978 - val_loss: 0.0958\n",
      "Epoch 11/50\n",
      "235/235 [==============================] - 3s 12ms/step - loss: 0.0964 - val_loss: 0.0946\n",
      "Epoch 12/50\n",
      "235/235 [==============================] - 2s 9ms/step - loss: 0.0954 - val_loss: 0.0938\n",
      "Epoch 13/50\n",
      "235/235 [==============================] - 2s 8ms/step - loss: 0.0948 - val_loss: 0.0932\n",
      "Epoch 14/50\n",
      "235/235 [==============================] - 2s 9ms/step - loss: 0.0944 - val_loss: 0.0929\n",
      "Epoch 15/50\n",
      "235/235 [==============================] - 3s 13ms/step - loss: 0.0941 - val_loss: 0.0928\n",
      "Epoch 16/50\n",
      "235/235 [==============================] - 3s 12ms/step - loss: 0.0938 - val_loss: 0.0925\n",
      "Epoch 17/50\n",
      "235/235 [==============================] - 3s 12ms/step - loss: 0.0937 - val_loss: 0.0923\n",
      "Epoch 18/50\n",
      "235/235 [==============================] - 3s 12ms/step - loss: 0.0935 - val_loss: 0.0922\n",
      "Epoch 19/50\n",
      "235/235 [==============================] - 2s 10ms/step - loss: 0.0934 - val_loss: 0.0921\n",
      "Epoch 20/50\n",
      "235/235 [==============================] - 2s 10ms/step - loss: 0.0934 - val_loss: 0.0920\n",
      "Epoch 21/50\n",
      "235/235 [==============================] - 3s 12ms/step - loss: 0.0933 - val_loss: 0.0921\n",
      "Epoch 22/50\n",
      "235/235 [==============================] - 2s 10ms/step - loss: 0.0932 - val_loss: 0.0920\n",
      "Epoch 23/50\n",
      "235/235 [==============================] - 2s 10ms/step - loss: 0.0931 - val_loss: 0.0919\n",
      "Epoch 24/50\n",
      "235/235 [==============================] - 2s 10ms/step - loss: 0.0931 - val_loss: 0.0918\n",
      "Epoch 25/50\n",
      "235/235 [==============================] - 2s 10ms/step - loss: 0.0930 - val_loss: 0.0918\n",
      "Epoch 26/50\n",
      "235/235 [==============================] - 3s 11ms/step - loss: 0.0930 - val_loss: 0.0918\n",
      "Epoch 27/50\n",
      "235/235 [==============================] - 3s 12ms/step - loss: 0.0930 - val_loss: 0.0918\n",
      "Epoch 28/50\n",
      "235/235 [==============================] - 3s 12ms/step - loss: 0.0929 - val_loss: 0.0919\n",
      "Epoch 29/50\n",
      "235/235 [==============================] - 3s 11ms/step - loss: 0.0929 - val_loss: 0.0916\n",
      "Epoch 30/50\n",
      "235/235 [==============================] - 3s 11ms/step - loss: 0.0929 - val_loss: 0.0917\n",
      "Epoch 31/50\n",
      "235/235 [==============================] - 3s 11ms/step - loss: 0.0928 - val_loss: 0.0916\n",
      "Epoch 32/50\n",
      "235/235 [==============================] - 2s 11ms/step - loss: 0.0928 - val_loss: 0.0917\n",
      "Epoch 33/50\n",
      "235/235 [==============================] - 3s 11ms/step - loss: 0.0928 - val_loss: 0.0916\n",
      "Epoch 34/50\n",
      "235/235 [==============================] - 2s 10ms/step - loss: 0.0928 - val_loss: 0.0916\n",
      "Epoch 35/50\n",
      "235/235 [==============================] - 2s 10ms/step - loss: 0.0928 - val_loss: 0.0916\n",
      "Epoch 36/50\n",
      "235/235 [==============================] - 3s 11ms/step - loss: 0.0927 - val_loss: 0.0916\n",
      "Epoch 37/50\n",
      "235/235 [==============================] - 3s 14ms/step - loss: 0.0927 - val_loss: 0.0915\n",
      "Epoch 38/50\n",
      "235/235 [==============================] - 2s 9ms/step - loss: 0.0927 - val_loss: 0.0916\n",
      "Epoch 39/50\n",
      "235/235 [==============================] - 2s 9ms/step - loss: 0.0927 - val_loss: 0.0915\n",
      "Epoch 40/50\n",
      "235/235 [==============================] - 2s 9ms/step - loss: 0.0927 - val_loss: 0.0915\n",
      "Epoch 41/50\n",
      "235/235 [==============================] - 2s 9ms/step - loss: 0.0926 - val_loss: 0.0916\n",
      "Epoch 42/50\n",
      "235/235 [==============================] - 2s 9ms/step - loss: 0.0926 - val_loss: 0.0915\n",
      "Epoch 43/50\n",
      "235/235 [==============================] - 2s 9ms/step - loss: 0.0926 - val_loss: 0.0915\n",
      "Epoch 44/50\n",
      "235/235 [==============================] - 2s 9ms/step - loss: 0.0926 - val_loss: 0.0915\n",
      "Epoch 45/50\n",
      "235/235 [==============================] - 2s 9ms/step - loss: 0.0926 - val_loss: 0.0915\n",
      "Epoch 46/50\n",
      "235/235 [==============================] - 2s 9ms/step - loss: 0.0926 - val_loss: 0.0914\n",
      "Epoch 47/50\n",
      "235/235 [==============================] - 2s 9ms/step - loss: 0.0926 - val_loss: 0.0915\n",
      "Epoch 48/50\n",
      "235/235 [==============================] - 2s 9ms/step - loss: 0.0926 - val_loss: 0.0914\n",
      "Epoch 49/50\n",
      "235/235 [==============================] - 2s 9ms/step - loss: 0.0925 - val_loss: 0.0914\n",
      "Epoch 50/50\n",
      "235/235 [==============================] - 2s 9ms/step - loss: 0.0925 - val_loss: 0.0915\n"
     ]
    },
    {
     "data": {
      "text/plain": [
       "<keras.callbacks.History at 0x29d33bf3010>"
      ]
     },
     "execution_count": 11,
     "metadata": {},
     "output_type": "execute_result"
    }
   ],
   "source": [
    "# Now let's train our autoencoder for 50 epochs:\n",
    "\n",
    "autoencoder.fit(x_train, x_train,\n",
    "                epochs=50,\n",
    "                batch_size=256,\n",
    "                shuffle=True,\n",
    "                validation_data=(x_test, x_test))"
   ]
  },
  {
   "cell_type": "code",
   "execution_count": 12,
   "metadata": {
    "id": "R6tflJBcdzby"
   },
   "outputs": [
    {
     "name": "stdout",
     "output_type": "stream",
     "text": [
      "313/313 [==============================] - 1s 2ms/step\n",
      "313/313 [==============================] - 1s 3ms/step\n"
     ]
    }
   ],
   "source": [
    "# Encode and decode some digits\n",
    "# Note that we take them from the *test* set\n",
    "encoded_imgs = encoder.predict(x_test)\n",
    "decoded_imgs = decoder.predict(encoded_imgs)"
   ]
  },
  {
   "cell_type": "code",
   "execution_count": 13,
   "metadata": {
    "colab": {
     "base_uri": "https://localhost:8080/",
     "height": 248
    },
    "id": "8kw_6-U-eyMm",
    "outputId": "cfdf2c9c-b897-414b-f5f3-3725c028fa3c"
   },
   "outputs": [
    {
     "data": {
      "image/png": "[encoded data removed]",
      "text/plain": [
       "<Figure size 2000x400 with 20 Axes>"
      ]
     },
     "metadata": {},
     "output_type": "display_data"
    }
   ],
   "source": [
    "# Use Matplotlib \n",
    "import matplotlib.pyplot as plt\n",
    "\n",
    "n = 10  # How many digits we will display\n",
    "plt.figure(figsize=(20, 4))\n",
    "for i in range(n):\n",
    "    # Display original\n",
    "    ax = plt.subplot(2, n, i + 1)\n",
    "    plt.imshow(x_test[i].reshape(28, 28))\n",
    "    plt.gray()\n",
    "    ax.get_xaxis().set_visible(False)\n",
    "    ax.get_yaxis().set_visible(False)\n",
    "\n",
    "    # Display reconstruction\n",
    "    ax = plt.subplot(2, n, i + 1 + n)\n",
    "    plt.imshow(decoded_imgs[i].reshape(28, 28))\n",
    "    plt.gray()\n",
    "    ax.get_xaxis().set_visible(False)\n",
    "    ax.get_yaxis().set_visible(False)\n",
    "plt.show()"
   ]
  },
  {
   "cell_type": "code",
   "execution_count": 14,
   "metadata": {
    "id": "Q-IfLZKCe3NT"
   },
   "outputs": [],
   "source": [
    "from keras import regularizers\n",
    "\n",
    "encoding_dim = 32\n",
    "\n",
    "input_img = keras.Input(shape=(784,))\n",
    "# Add a Dense layer with a L1 activity regularizer\n",
    "encoded = layers.Dense(encoding_dim, activation='relu',\n",
    "                activity_regularizer=regularizers.l1(10e-5))(input_img)\n",
    "decoded = layers.Dense(784, activation='sigmoid')(encoded)\n",
    "\n",
    "autoencoder = keras.Model(input_img, decoded)"
   ]
  },
  {
   "cell_type": "code",
   "execution_count": 15,
   "metadata": {
    "id": "fWB1sNm6fLhq"
   },
   "outputs": [],
   "source": [
    "#Let's also create a separate encoder model:\n",
    "\n",
    "# This model maps an input to its encoded representation\n",
    "encoder = keras.Model(input_img, encoded)"
   ]
  },
  {
   "cell_type": "code",
   "execution_count": 16,
   "metadata": {
    "id": "ijQyeVnTf8br"
   },
   "outputs": [],
   "source": [
    "# This is our encoded (32-dimensional) input\n",
    "encoded_input = keras.Input(shape=(encoding_dim,))\n",
    "# Retrieve the last layer of the autoencoder model\n",
    "decoder_layer = autoencoder.layers[-1]\n",
    "# Create the decoder model\n",
    "decoder = keras.Model(encoded_input, decoder_layer(encoded_input))"
   ]
  },
  {
   "cell_type": "code",
   "execution_count": 17,
   "metadata": {
    "id": "vjAl6w6ugAd6"
   },
   "outputs": [],
   "source": [
    "#Now let's train our autoencoder to reconstruct MNIST digits.\n",
    "\n",
    "#First, we'll configure our model to use a per-pixel binary crossentropy loss, and the Adam optimizer:\n",
    "\n",
    "autoencoder.compile(optimizer='adam', loss='binary_crossentropy')"
   ]
  },
  {
   "cell_type": "code",
   "execution_count": 18,
   "metadata": {
    "id": "ty2EthgfgEPG"
   },
   "outputs": [],
   "source": [
    "#Let's prepare our input data. We're using MNIST digits, and we're discarding the labels (since we're only interested in encoding/decoding the input images).\n",
    "\n",
    "from keras.datasets import mnist\n",
    "import numpy as np\n",
    "(x_train, _), (x_test, _) = mnist.load_data()"
   ]
  },
  {
   "cell_type": "code",
   "execution_count": 19,
   "metadata": {
    "colab": {
     "base_uri": "https://localhost:8080/"
    },
    "id": "-yNfHN0kgHl5",
    "outputId": "fd422e63-904b-4338-89c2-999a9ac24485"
   },
   "outputs": [
    {
     "name": "stdout",
     "output_type": "stream",
     "text": [
      "(60000, 784)\n",
      "(10000, 784)\n"
     ]
    }
   ],
   "source": [
    "# We will normalize all values between 0 and 1 and we will flatten the 28x28 images into vectors of size 784.\n",
    "\n",
    "x_train = x_train.astype('float32') / 255.\n",
    "x_test = x_test.astype('float32') / 255.\n",
    "x_train = x_train.reshape((len(x_train), np.prod(x_train.shape[1:])))\n",
    "x_test = x_test.reshape((len(x_test), np.prod(x_test.shape[1:])))\n",
    "print(x_train.shape)\n",
    "print(x_test.shape)"
   ]
  },
  {
   "cell_type": "code",
   "execution_count": 20,
   "metadata": {
    "colab": {
     "base_uri": "https://localhost:8080/"
    },
    "id": "4Z-fuWcigKx8",
    "outputId": "98043895-d991-4198-ca5e-b5d8fed78a21"
   },
   "outputs": [
    {
     "name": "stdout",
     "output_type": "stream",
     "text": [
      "Epoch 1/50\n",
      "235/235 [==============================] - 4s 13ms/step - loss: 0.2826 - val_loss: 0.1962\n",
      "Epoch 2/50\n",
      "235/235 [==============================] - 2s 11ms/step - loss: 0.1787 - val_loss: 0.1617\n",
      "Epoch 3/50\n",
      "235/235 [==============================] - 2s 9ms/step - loss: 0.1523 - val_loss: 0.1420\n",
      "Epoch 4/50\n",
      "235/235 [==============================] - 2s 9ms/step - loss: 0.1374 - val_loss: 0.1308\n",
      "Epoch 5/50\n",
      "235/235 [==============================] - 2s 9ms/step - loss: 0.1284 - val_loss: 0.1237\n",
      "Epoch 6/50\n",
      "235/235 [==============================] - 2s 9ms/step - loss: 0.1222 - val_loss: 0.1184\n",
      "Epoch 7/50\n",
      "235/235 [==============================] - 2s 9ms/step - loss: 0.1175 - val_loss: 0.1143\n",
      "Epoch 8/50\n",
      "235/235 [==============================] - 2s 10ms/step - loss: 0.1138 - val_loss: 0.1110\n",
      "Epoch 9/50\n",
      "235/235 [==============================] - 2s 10ms/step - loss: 0.1112 - val_loss: 0.1088\n",
      "Epoch 10/50\n",
      "235/235 [==============================] - 2s 10ms/step - loss: 0.1093 - val_loss: 0.1073\n",
      "Epoch 11/50\n",
      "235/235 [==============================] - 2s 10ms/step - loss: 0.1080 - val_loss: 0.1062\n",
      "Epoch 12/50\n",
      "235/235 [==============================] - 2s 10ms/step - loss: 0.1071 - val_loss: 0.1054\n",
      "Epoch 13/50\n",
      "235/235 [==============================] - 2s 10ms/step - loss: 0.1063 - val_loss: 0.1047\n",
      "Epoch 14/50\n",
      "235/235 [==============================] - 2s 10ms/step - loss: 0.1057 - val_loss: 0.1041\n",
      "Epoch 15/50\n",
      "235/235 [==============================] - 2s 10ms/step - loss: 0.1051 - val_loss: 0.1036\n",
      "Epoch 16/50\n",
      "235/235 [==============================] - 2s 10ms/step - loss: 0.1047 - val_loss: 0.1032\n",
      "Epoch 17/50\n",
      "235/235 [==============================] - 2s 10ms/step - loss: 0.1042 - val_loss: 0.1028\n",
      "Epoch 18/50\n",
      "235/235 [==============================] - 2s 10ms/step - loss: 0.1038 - val_loss: 0.1025\n",
      "Epoch 19/50\n",
      "235/235 [==============================] - 2s 10ms/step - loss: 0.1035 - val_loss: 0.1021\n",
      "Epoch 20/50\n",
      "235/235 [==============================] - 2s 9ms/step - loss: 0.1032 - val_loss: 0.1018\n",
      "Epoch 21/50\n",
      "235/235 [==============================] - 2s 10ms/step - loss: 0.1029 - val_loss: 0.1015\n",
      "Epoch 22/50\n",
      "235/235 [==============================] - 2s 10ms/step - loss: 0.1026 - val_loss: 0.1013\n",
      "Epoch 23/50\n",
      "235/235 [==============================] - 2s 10ms/step - loss: 0.1024 - val_loss: 0.1010\n",
      "Epoch 24/50\n",
      "235/235 [==============================] - 2s 10ms/step - loss: 0.1021 - val_loss: 0.1008\n",
      "Epoch 25/50\n",
      "235/235 [==============================] - 2s 10ms/step - loss: 0.1019 - val_loss: 0.1007\n",
      "Epoch 26/50\n",
      "235/235 [==============================] - 2s 10ms/step - loss: 0.1017 - val_loss: 0.1004\n",
      "Epoch 27/50\n",
      "235/235 [==============================] - 2s 10ms/step - loss: 0.1015 - val_loss: 0.1002\n",
      "Epoch 28/50\n",
      "235/235 [==============================] - 2s 11ms/step - loss: 0.1013 - val_loss: 0.1001\n",
      "Epoch 29/50\n",
      "235/235 [==============================] - 2s 10ms/step - loss: 0.1011 - val_loss: 0.0999\n",
      "Epoch 30/50\n",
      "235/235 [==============================] - 2s 10ms/step - loss: 0.1010 - val_loss: 0.0997\n",
      "Epoch 31/50\n",
      "235/235 [==============================] - 2s 10ms/step - loss: 0.1008 - val_loss: 0.0996\n",
      "Epoch 32/50\n",
      "235/235 [==============================] - 2s 10ms/step - loss: 0.1007 - val_loss: 0.0995\n",
      "Epoch 33/50\n",
      "235/235 [==============================] - 2s 10ms/step - loss: 0.1006 - val_loss: 0.0994\n",
      "Epoch 34/50\n",
      "235/235 [==============================] - 2s 9ms/step - loss: 0.1004 - val_loss: 0.0992\n",
      "Epoch 35/50\n",
      "235/235 [==============================] - 2s 10ms/step - loss: 0.1003 - val_loss: 0.0991\n",
      "Epoch 36/50\n",
      "235/235 [==============================] - 2s 10ms/step - loss: 0.1002 - val_loss: 0.0990\n",
      "Epoch 37/50\n",
      "235/235 [==============================] - 2s 10ms/step - loss: 0.1001 - val_loss: 0.0989\n",
      "Epoch 38/50\n",
      "235/235 [==============================] - 3s 11ms/step - loss: 0.0999 - val_loss: 0.0988\n",
      "Epoch 39/50\n",
      "235/235 [==============================] - 2s 10ms/step - loss: 0.0998 - val_loss: 0.0987\n",
      "Epoch 40/50\n",
      "235/235 [==============================] - 2s 9ms/step - loss: 0.0997 - val_loss: 0.0986\n",
      "Epoch 41/50\n",
      "235/235 [==============================] - 2s 9ms/step - loss: 0.0996 - val_loss: 0.0985\n",
      "Epoch 42/50\n",
      "235/235 [==============================] - 2s 10ms/step - loss: 0.0996 - val_loss: 0.0984\n",
      "Epoch 43/50\n",
      "235/235 [==============================] - 2s 10ms/step - loss: 0.0995 - val_loss: 0.0983\n",
      "Epoch 44/50\n",
      "235/235 [==============================] - 3s 11ms/step - loss: 0.0994 - val_loss: 0.0983\n",
      "Epoch 45/50\n",
      "235/235 [==============================] - 2s 10ms/step - loss: 0.0993 - val_loss: 0.0982\n",
      "Epoch 46/50\n",
      "235/235 [==============================] - 2s 10ms/step - loss: 0.0992 - val_loss: 0.0981\n",
      "Epoch 47/50\n",
      "235/235 [==============================] - 2s 10ms/step - loss: 0.0991 - val_loss: 0.0980\n",
      "Epoch 48/50\n",
      "235/235 [==============================] - 2s 9ms/step - loss: 0.0991 - val_loss: 0.0980\n",
      "Epoch 49/50\n",
      "235/235 [==============================] - 2s 10ms/step - loss: 0.0990 - val_loss: 0.0978\n",
      "Epoch 50/50\n",
      "235/235 [==============================] - 2s 10ms/step - loss: 0.0989 - val_loss: 0.0978\n"
     ]
    },
    {
     "data": {
      "text/plain": [
       "<keras.callbacks.History at 0x29d3ab82d10>"
      ]
     },
     "execution_count": 20,
     "metadata": {},
     "output_type": "execute_result"
    }
   ],
   "source": [
    "# Now let's train our autoencoder for 50 epochs:\n",
    "\n",
    "autoencoder.fit(x_train, x_train,\n",
    "                epochs=50,\n",
    "                batch_size=256,\n",
    "                shuffle=True,\n",
    "                validation_data=(x_test, x_test))"
   ]
  },
  {
   "cell_type": "code",
   "execution_count": 21,
   "metadata": {
    "id": "13NymXMrgO4X"
   },
   "outputs": [
    {
     "name": "stdout",
     "output_type": "stream",
     "text": [
      "313/313 [==============================] - 1s 2ms/step\n",
      "313/313 [==============================] - 1s 2ms/step\n"
     ]
    }
   ],
   "source": [
    "# Encode and decode some digits\n",
    "# Note that we take them from the *test* set\n",
    "encoded_imgs = encoder.predict(x_test)\n",
    "decoded_imgs = decoder.predict(encoded_imgs)"
   ]
  },
  {
   "cell_type": "code",
   "execution_count": 22,
   "metadata": {
    "colab": {
     "base_uri": "https://localhost:8080/",
     "height": 248
    },
    "id": "WgylVtRvhpES",
    "outputId": "89907eb8-4b03-493e-c116-96b9c15d419b"
   },
   "outputs": [
    {
     "data": {
      "image/png": "[encoded data removed]",
      "text/plain": [
       "<Figure size 2000x400 with 20 Axes>"
      ]
     },
     "metadata": {},
     "output_type": "display_data"
    }
   ],
   "source": [
    "# Use Matplotlib \n",
    "import matplotlib.pyplot as plt\n",
    "\n",
    "n = 10  # How many digits we will display\n",
    "plt.figure(figsize=(20, 4))\n",
    "for i in range(n):\n",
    "    # Display original\n",
    "    ax = plt.subplot(2, n, i + 1)\n",
    "    plt.imshow(x_test[i].reshape(28, 28))\n",
    "    plt.gray()\n",
    "    ax.get_xaxis().set_visible(False)\n",
    "    ax.get_yaxis().set_visible(False)\n",
    "\n",
    "    # Display reconstruction\n",
    "    ax = plt.subplot(2, n, i + 1 + n)\n",
    "    plt.imshow(decoded_imgs[i].reshape(28, 28))\n",
    "    plt.gray()\n",
    "    ax.get_xaxis().set_visible(False)\n",
    "    ax.get_yaxis().set_visible(False)\n",
    "plt.show()"
   ]
  },
  {
   "cell_type": "markdown",
   "metadata": {
    "id": "ZkD-otfwh9b2"
   },
   "source": [
    "Deep autoencoder\n",
    "\n",
    "We do not have to limit ourselves to a single layer as encoder or decoder, we could instead use a stack of layers, such as:"
   ]
  },
  {
   "cell_type": "code",
   "execution_count": 23,
   "metadata": {
    "id": "UYNBrP8ths18"
   },
   "outputs": [],
   "source": [
    "input_img = keras.Input(shape=(784,))\n",
    "encoded = layers.Dense(128, activation='relu')(input_img)\n",
    "encoded = layers.Dense(64, activation='relu')(encoded)\n",
    "encoded = layers.Dense(32, activation='relu')(encoded)\n",
    "\n",
    "decoded = layers.Dense(64, activation='relu')(encoded)\n",
    "decoded = layers.Dense(128, activation='relu')(decoded)\n",
    "decoded = layers.Dense(784, activation='sigmoid')(decoded)"
   ]
  },
  {
   "cell_type": "code",
   "execution_count": 24,
   "metadata": {
    "colab": {
     "base_uri": "https://localhost:8080/"
    },
    "id": "UaIkn99RiAp2",
    "outputId": "87498843-22ae-4b37-ef5a-4114886e8577"
   },
   "outputs": [
    {
     "name": "stdout",
     "output_type": "stream",
     "text": [
      "Epoch 1/100\n",
      "235/235 [==============================] - 5s 13ms/step - loss: 0.2453 - val_loss: 0.1683\n",
      "Epoch 2/100\n",
      "235/235 [==============================] - 3s 12ms/step - loss: 0.1533 - val_loss: 0.1410\n",
      "Epoch 3/100\n",
      "235/235 [==============================] - 3s 13ms/step - loss: 0.1345 - val_loss: 0.1260\n",
      "Epoch 4/100\n",
      "235/235 [==============================] - 3s 13ms/step - loss: 0.1235 - val_loss: 0.1182\n",
      "Epoch 5/100\n",
      "235/235 [==============================] - 3s 15ms/step - loss: 0.1171 - val_loss: 0.1136\n",
      "Epoch 6/100\n",
      "235/235 [==============================] - 4s 18ms/step - loss: 0.1130 - val_loss: 0.1098\n",
      "Epoch 7/100\n",
      "235/235 [==============================] - 4s 16ms/step - loss: 0.1099 - val_loss: 0.1073\n",
      "Epoch 8/100\n",
      "235/235 [==============================] - 4s 17ms/step - loss: 0.1070 - val_loss: 0.1044\n",
      "Epoch 9/100\n",
      "235/235 [==============================] - 4s 15ms/step - loss: 0.1045 - val_loss: 0.1023\n",
      "Epoch 10/100\n",
      "235/235 [==============================] - 3s 14ms/step - loss: 0.1026 - val_loss: 0.1008\n",
      "Epoch 11/100\n",
      "235/235 [==============================] - 3s 14ms/step - loss: 0.1012 - val_loss: 0.0992\n",
      "Epoch 12/100\n",
      "235/235 [==============================] - 4s 15ms/step - loss: 0.0997 - val_loss: 0.0980\n",
      "Epoch 13/100\n",
      "235/235 [==============================] - 3s 15ms/step - loss: 0.0984 - val_loss: 0.0971\n",
      "Epoch 14/100\n",
      "235/235 [==============================] - 3s 14ms/step - loss: 0.0973 - val_loss: 0.0962\n",
      "Epoch 15/100\n",
      "235/235 [==============================] - 3s 14ms/step - loss: 0.0963 - val_loss: 0.0950\n",
      "Epoch 16/100\n",
      "235/235 [==============================] - 3s 14ms/step - loss: 0.0953 - val_loss: 0.0940\n",
      "Epoch 17/100\n",
      "235/235 [==============================] - 3s 14ms/step - loss: 0.0944 - val_loss: 0.0930\n",
      "Epoch 18/100\n",
      "235/235 [==============================] - 3s 14ms/step - loss: 0.0935 - val_loss: 0.0921\n",
      "Epoch 19/100\n",
      "235/235 [==============================] - 3s 14ms/step - loss: 0.0928 - val_loss: 0.0916\n",
      "Epoch 20/100\n",
      "235/235 [==============================] - 4s 15ms/step - loss: 0.0922 - val_loss: 0.0910\n",
      "Epoch 21/100\n",
      "235/235 [==============================] - 4s 15ms/step - loss: 0.0917 - val_loss: 0.0907\n",
      "Epoch 22/100\n",
      "235/235 [==============================] - 3s 14ms/step - loss: 0.0910 - val_loss: 0.0903\n",
      "Epoch 23/100\n",
      "235/235 [==============================] - 3s 14ms/step - loss: 0.0907 - val_loss: 0.0896\n",
      "Epoch 24/100\n",
      "235/235 [==============================] - 3s 14ms/step - loss: 0.0902 - val_loss: 0.0893\n",
      "Epoch 25/100\n",
      "235/235 [==============================] - 3s 14ms/step - loss: 0.0898 - val_loss: 0.0888\n",
      "Epoch 26/100\n",
      "235/235 [==============================] - 3s 15ms/step - loss: 0.0894 - val_loss: 0.0885\n",
      "Epoch 27/100\n",
      "235/235 [==============================] - 3s 14ms/step - loss: 0.0891 - val_loss: 0.0881\n",
      "Epoch 28/100\n",
      "235/235 [==============================] - 3s 14ms/step - loss: 0.0887 - val_loss: 0.0879\n",
      "Epoch 29/100\n",
      "235/235 [==============================] - 4s 15ms/step - loss: 0.0883 - val_loss: 0.0877\n",
      "Epoch 30/100\n",
      "235/235 [==============================] - 3s 15ms/step - loss: 0.0880 - val_loss: 0.0871\n",
      "Epoch 31/100\n",
      "235/235 [==============================] - 3s 14ms/step - loss: 0.0876 - val_loss: 0.0869\n",
      "Epoch 32/100\n",
      "235/235 [==============================] - 5s 21ms/step - loss: 0.0874 - val_loss: 0.0865\n",
      "Epoch 33/100\n",
      "235/235 [==============================] - 4s 17ms/step - loss: 0.0871 - val_loss: 0.0863\n",
      "Epoch 34/100\n",
      "235/235 [==============================] - 4s 18ms/step - loss: 0.0868 - val_loss: 0.0864\n",
      "Epoch 35/100\n",
      "235/235 [==============================] - 4s 19ms/step - loss: 0.0866 - val_loss: 0.0859\n",
      "Epoch 36/100\n",
      "235/235 [==============================] - 4s 19ms/step - loss: 0.0863 - val_loss: 0.0859\n",
      "Epoch 37/100\n",
      "235/235 [==============================] - 4s 18ms/step - loss: 0.0861 - val_loss: 0.0855\n",
      "Epoch 38/100\n",
      "235/235 [==============================] - 4s 15ms/step - loss: 0.0859 - val_loss: 0.0853\n",
      "Epoch 39/100\n",
      "235/235 [==============================] - 4s 19ms/step - loss: 0.0857 - val_loss: 0.0850\n",
      "Epoch 40/100\n",
      "235/235 [==============================] - 4s 18ms/step - loss: 0.0855 - val_loss: 0.0850\n",
      "Epoch 41/100\n",
      "235/235 [==============================] - 4s 19ms/step - loss: 0.0854 - val_loss: 0.0848\n",
      "Epoch 42/100\n",
      "235/235 [==============================] - 5s 22ms/step - loss: 0.0852 - val_loss: 0.0847\n",
      "Epoch 43/100\n",
      "235/235 [==============================] - 3s 13ms/step - loss: 0.0850 - val_loss: 0.0843\n",
      "Epoch 44/100\n",
      "235/235 [==============================] - 4s 18ms/step - loss: 0.0849 - val_loss: 0.0847\n",
      "Epoch 45/100\n",
      "235/235 [==============================] - 4s 15ms/step - loss: 0.0847 - val_loss: 0.0842\n",
      "Epoch 46/100\n",
      "235/235 [==============================] - 4s 16ms/step - loss: 0.0846 - val_loss: 0.0840\n",
      "Epoch 47/100\n",
      "235/235 [==============================] - 3s 15ms/step - loss: 0.0844 - val_loss: 0.0840\n",
      "Epoch 48/100\n",
      "235/235 [==============================] - 3s 14ms/step - loss: 0.0843 - val_loss: 0.0837\n",
      "Epoch 49/100\n",
      "235/235 [==============================] - 3s 14ms/step - loss: 0.0841 - val_loss: 0.0836\n",
      "Epoch 50/100\n",
      "235/235 [==============================] - 3s 12ms/step - loss: 0.0840 - val_loss: 0.0835\n",
      "Epoch 51/100\n",
      "235/235 [==============================] - 3s 13ms/step - loss: 0.0838 - val_loss: 0.0836\n",
      "Epoch 52/100\n",
      "235/235 [==============================] - 3s 13ms/step - loss: 0.0838 - val_loss: 0.0832\n",
      "Epoch 53/100\n",
      "235/235 [==============================] - 3s 13ms/step - loss: 0.0836 - val_loss: 0.0833\n",
      "Epoch 54/100\n",
      "235/235 [==============================] - 3s 13ms/step - loss: 0.0835 - val_loss: 0.0832\n",
      "Epoch 55/100\n",
      "235/235 [==============================] - 3s 13ms/step - loss: 0.0835 - val_loss: 0.0832\n",
      "Epoch 56/100\n",
      "235/235 [==============================] - 3s 12ms/step - loss: 0.0833 - val_loss: 0.0828\n",
      "Epoch 57/100\n",
      "235/235 [==============================] - 3s 14ms/step - loss: 0.0832 - val_loss: 0.0829\n",
      "Epoch 58/100\n",
      "235/235 [==============================] - 3s 13ms/step - loss: 0.0831 - val_loss: 0.0829\n",
      "Epoch 59/100\n",
      "235/235 [==============================] - 3s 12ms/step - loss: 0.0830 - val_loss: 0.0826\n",
      "Epoch 60/100\n",
      "235/235 [==============================] - 3s 11ms/step - loss: 0.0830 - val_loss: 0.0827\n",
      "Epoch 61/100\n",
      "235/235 [==============================] - 3s 13ms/step - loss: 0.0829 - val_loss: 0.0826\n",
      "Epoch 62/100\n",
      "235/235 [==============================] - 3s 14ms/step - loss: 0.0828 - val_loss: 0.0825\n",
      "Epoch 63/100\n",
      "235/235 [==============================] - 3s 15ms/step - loss: 0.0828 - val_loss: 0.0826\n",
      "Epoch 64/100\n",
      "235/235 [==============================] - 3s 14ms/step - loss: 0.0827 - val_loss: 0.0827\n",
      "Epoch 65/100\n",
      "235/235 [==============================] - 3s 12ms/step - loss: 0.0826 - val_loss: 0.0824\n",
      "Epoch 66/100\n",
      "235/235 [==============================] - 3s 12ms/step - loss: 0.0826 - val_loss: 0.0823\n",
      "Epoch 67/100\n",
      "235/235 [==============================] - 3s 13ms/step - loss: 0.0824 - val_loss: 0.0820\n",
      "Epoch 68/100\n",
      "235/235 [==============================] - 3s 13ms/step - loss: 0.0824 - val_loss: 0.0823\n",
      "Epoch 69/100\n",
      "235/235 [==============================] - 3s 13ms/step - loss: 0.0823 - val_loss: 0.0821\n",
      "Epoch 70/100\n",
      "235/235 [==============================] - 3s 13ms/step - loss: 0.0823 - val_loss: 0.0820\n",
      "Epoch 71/100\n",
      "235/235 [==============================] - 3s 13ms/step - loss: 0.0823 - val_loss: 0.0821\n",
      "Epoch 72/100\n",
      "235/235 [==============================] - 3s 14ms/step - loss: 0.0822 - val_loss: 0.0821\n",
      "Epoch 73/100\n",
      "235/235 [==============================] - 3s 15ms/step - loss: 0.0822 - val_loss: 0.0819\n",
      "Epoch 74/100\n",
      "235/235 [==============================] - 3s 14ms/step - loss: 0.0821 - val_loss: 0.0819\n",
      "Epoch 75/100\n",
      "235/235 [==============================] - 3s 14ms/step - loss: 0.0821 - val_loss: 0.0819\n",
      "Epoch 76/100\n",
      "235/235 [==============================] - 4s 15ms/step - loss: 0.0820 - val_loss: 0.0819\n",
      "Epoch 77/100\n",
      "235/235 [==============================] - 4s 17ms/step - loss: 0.0820 - val_loss: 0.0820\n",
      "Epoch 78/100\n",
      "235/235 [==============================] - 4s 17ms/step - loss: 0.0820 - val_loss: 0.0820\n",
      "Epoch 79/100\n",
      "235/235 [==============================] - 4s 17ms/step - loss: 0.0819 - val_loss: 0.0817\n",
      "Epoch 80/100\n"
     ]
    },
    {
     "name": "stdout",
     "output_type": "stream",
     "text": [
      "235/235 [==============================] - 4s 17ms/step - loss: 0.0819 - val_loss: 0.0820\n",
      "Epoch 81/100\n",
      "235/235 [==============================] - 4s 16ms/step - loss: 0.0818 - val_loss: 0.0816\n",
      "Epoch 82/100\n",
      "235/235 [==============================] - 4s 15ms/step - loss: 0.0818 - val_loss: 0.0816\n",
      "Epoch 83/100\n",
      "235/235 [==============================] - 4s 15ms/step - loss: 0.0817 - val_loss: 0.0815\n",
      "Epoch 84/100\n",
      "235/235 [==============================] - 4s 15ms/step - loss: 0.0817 - val_loss: 0.0816\n",
      "Epoch 85/100\n",
      "235/235 [==============================] - 4s 16ms/step - loss: 0.0817 - val_loss: 0.0817\n",
      "Epoch 86/100\n",
      "235/235 [==============================] - 3s 15ms/step - loss: 0.0816 - val_loss: 0.0814\n",
      "Epoch 87/100\n",
      "235/235 [==============================] - 3s 14ms/step - loss: 0.0816 - val_loss: 0.0815\n",
      "Epoch 88/100\n",
      "235/235 [==============================] - 4s 15ms/step - loss: 0.0816 - val_loss: 0.0814\n",
      "Epoch 89/100\n",
      "235/235 [==============================] - 4s 16ms/step - loss: 0.0815 - val_loss: 0.0813\n",
      "Epoch 90/100\n",
      "235/235 [==============================] - 4s 15ms/step - loss: 0.0815 - val_loss: 0.0815\n",
      "Epoch 91/100\n",
      "235/235 [==============================] - 3s 15ms/step - loss: 0.0815 - val_loss: 0.0814\n",
      "Epoch 92/100\n",
      "235/235 [==============================] - 4s 16ms/step - loss: 0.0814 - val_loss: 0.0813\n",
      "Epoch 93/100\n",
      "235/235 [==============================] - 4s 17ms/step - loss: 0.0814 - val_loss: 0.0812\n",
      "Epoch 94/100\n",
      "235/235 [==============================] - 4s 16ms/step - loss: 0.0814 - val_loss: 0.0814\n",
      "Epoch 95/100\n",
      "235/235 [==============================] - 4s 15ms/step - loss: 0.0814 - val_loss: 0.0813\n",
      "Epoch 96/100\n",
      "235/235 [==============================] - 4s 15ms/step - loss: 0.0813 - val_loss: 0.0812\n",
      "Epoch 97/100\n",
      "235/235 [==============================] - 4s 16ms/step - loss: 0.0813 - val_loss: 0.0812\n",
      "Epoch 98/100\n",
      "235/235 [==============================] - 4s 18ms/step - loss: 0.0813 - val_loss: 0.0813\n",
      "Epoch 99/100\n",
      "235/235 [==============================] - 4s 16ms/step - loss: 0.0812 - val_loss: 0.0812\n",
      "Epoch 100/100\n",
      "235/235 [==============================] - 4s 16ms/step - loss: 0.0812 - val_loss: 0.0813\n"
     ]
    },
    {
     "data": {
      "text/plain": [
       "<keras.callbacks.History at 0x29d3896d510>"
      ]
     },
     "execution_count": 24,
     "metadata": {},
     "output_type": "execute_result"
    }
   ],
   "source": [
    "autoencoder = keras.Model(input_img, decoded)\n",
    "autoencoder.compile(optimizer='adam', loss='binary_crossentropy')\n",
    "\n",
    "autoencoder.fit(x_train, x_train,\n",
    "                epochs=100,\n",
    "                batch_size=256,\n",
    "                shuffle=True,\n",
    "                validation_data=(x_test, x_test))"
   ]
  },
  {
   "cell_type": "code",
   "execution_count": 25,
   "metadata": {
    "id": "gZeNm6gtiDO3"
   },
   "outputs": [
    {
     "name": "stdout",
     "output_type": "stream",
     "text": [
      "313/313 [==============================] - 1s 2ms/step\n",
      "313/313 [==============================] - 1s 2ms/step\n"
     ]
    }
   ],
   "source": [
    "# Encode and decode some digits\n",
    "# Note that we take them from the *test* set\n",
    "encoded_imgs = encoder.predict(x_test)\n",
    "decoded_imgs = decoder.predict(encoded_imgs)"
   ]
  },
  {
   "cell_type": "code",
   "execution_count": 26,
   "metadata": {
    "colab": {
     "base_uri": "https://localhost:8080/",
     "height": 248
    },
    "id": "FS_P91LMiKa-",
    "outputId": "a17f5b2d-5bc5-434c-8f79-66870a6358fe"
   },
   "outputs": [
    {
     "data": {
      "image/png": "[encoded data removed]",
      "text/plain": [
       "<Figure size 2000x400 with 20 Axes>"
      ]
     },
     "metadata": {},
     "output_type": "display_data"
    }
   ],
   "source": [
    "# Use Matplotlib \n",
    "import matplotlib.pyplot as plt\n",
    "\n",
    "n = 10  # How many digits we will display\n",
    "plt.figure(figsize=(20, 4))\n",
    "for i in range(n):\n",
    "    # Display original\n",
    "    ax = plt.subplot(2, n, i + 1)\n",
    "    plt.imshow(x_test[i].reshape(28, 28))\n",
    "    plt.gray()\n",
    "    ax.get_xaxis().set_visible(False)\n",
    "    ax.get_yaxis().set_visible(False)\n",
    "\n",
    "    # Display reconstruction\n",
    "    ax = plt.subplot(2, n, i + 1 + n)\n",
    "    plt.imshow(decoded_imgs[i].reshape(28, 28))\n",
    "    plt.gray()\n",
    "    ax.get_xaxis().set_visible(False)\n",
    "    ax.get_yaxis().set_visible(False)\n",
    "plt.show()"
   ]
  },
  {
   "cell_type": "code",
   "execution_count": null,
   "metadata": {},
   "outputs": [],
   "source": []
  }
 ],
 "metadata": {
  "colab": {
   "collapsed_sections": [],
   "name": "Autoencoders.ipynb",
   "provenance": []
  },
  "kernelspec": {
   "display_name": "Python 3 (ipykernel)",
   "language": "python",
   "name": "python3"
  },
  "language_info": {
   "codemirror_mode": {
    "name": "ipython",
    "version": 3
   },
   "file_extension": ".py",
   "mimetype": "text/x-python",
   "name": "python",
   "nbconvert_exporter": "python",
   "pygments_lexer": "ipython3",
   "version": "3.11.4"
  }
 },
 "nbformat": 4,
 "nbformat_minor": 1
}
