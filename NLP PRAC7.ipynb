{
 "cells": [
  {
   "cell_type": "code",
   "execution_count": 1,
   "id": "3f8b8d71",
   "metadata": {},
   "outputs": [
    {
     "name": "stdout",
     "output_type": "stream",
     "text": [
      "write\n"
     ]
    }
   ],
   "source": [
    "#7Study PorterStemmer, LancasterStemmer, RegexpStemmer, SnowballStemmer\n",
    "#Study WordNetLemmatizer\n",
    "\n",
    "#7a PorterStemmer\n",
    "import nltk\n",
    "from nltk.stem import PorterStemmer\n",
    "word_stemmer = PorterStemmer()\n",
    "print(word_stemmer.stem('writing'))"
   ]
  },
  {
   "cell_type": "code",
   "execution_count": null,
   "id": "592d2cc0",
   "metadata": {},
   "outputs": [],
   "source": []
  },
  {
   "cell_type": "code",
   "execution_count": 2,
   "id": "60dd7a13",
   "metadata": {},
   "outputs": [
    {
     "name": "stdout",
     "output_type": "stream",
     "text": [
      "writ\n"
     ]
    }
   ],
   "source": [
    "#LancasterStemmer\n",
    "import nltk\n",
    "from nltk.stem import LancasterStemmer\n",
    "Lanc_stemmer = LancasterStemmer()\n",
    "print(Lanc_stemmer.stem('writing'))"
   ]
  },
  {
   "cell_type": "code",
   "execution_count": null,
   "id": "cc0409fb",
   "metadata": {},
   "outputs": [],
   "source": []
  },
  {
   "cell_type": "code",
   "execution_count": 3,
   "id": "3123c85c",
   "metadata": {},
   "outputs": [
    {
     "name": "stdout",
     "output_type": "stream",
     "text": [
      "writ\n"
     ]
    }
   ],
   "source": [
    "#RegexpStemmer\n",
    "import nltk\n",
    "from nltk.stem import RegexpStemmer\n",
    "Reg_stemmer = RegexpStemmer('ing$|s$|e$|able$', min=4)\n",
    "print(Reg_stemmer.stem('writing'))"
   ]
  },
  {
   "cell_type": "code",
   "execution_count": null,
   "id": "5366d0bf",
   "metadata": {},
   "outputs": [],
   "source": []
  },
  {
   "cell_type": "code",
   "execution_count": 6,
   "id": "3d71bfeb",
   "metadata": {},
   "outputs": [
    {
     "name": "stdout",
     "output_type": "stream",
     "text": [
      "write\n"
     ]
    }
   ],
   "source": [
    "##SnowballStemmer\n",
    "import nltk\n",
    "from nltk.stem import SnowballStemmer\n",
    "english_stemmer = SnowballStemmer('english')\n",
    "print(english_stemmer.stem ('writing'))"
   ]
  },
  {
   "cell_type": "code",
   "execution_count": null,
   "id": "7c3a7b15",
   "metadata": {},
   "outputs": [],
   "source": []
  },
  {
   "cell_type": "code",
   "execution_count": 8,
   "id": "335f596c",
   "metadata": {},
   "outputs": [
    {
     "name": "stdout",
     "output_type": "stream",
     "text": [
      "word :\tlemma\n",
      "rocks : rock\n",
      "corpora : corpus\n",
      "better : good\n"
     ]
    }
   ],
   "source": [
    "#WordNetLemmatizer\n",
    "from nltk.stem import WordNetLemmatizer\n",
    "lemmatizer = WordNetLemmatizer()\n",
    "print(\"word :\\tlemma\")\n",
    "print(\"rocks :\", lemmatizer.lemmatize(\"rocks\"))\n",
    "print(\"corpora :\", lemmatizer.lemmatize(\"corpora\"))\n",
    "# a denotes adjective in \"pos\"\n",
    "print(\"better :\", lemmatizer.lemmatize(\"better\", pos =\"a\"))"
   ]
  },
  {
   "cell_type": "code",
   "execution_count": null,
   "id": "fc048926",
   "metadata": {},
   "outputs": [],
   "source": []
  }
 ],
 "metadata": {
  "kernelspec": {
   "display_name": "Python 3 (ipykernel)",
   "language": "python",
   "name": "python3"
  },
  "language_info": {
   "codemirror_mode": {
    "name": "ipython",
    "version": 3
   },
   "file_extension": ".py",
   "mimetype": "text/x-python",
   "name": "python",
   "nbconvert_exporter": "python",
   "pygments_lexer": "ipython3",
   "version": "3.11.4"
  }
 },
 "nbformat": 4,
 "nbformat_minor": 5
}
