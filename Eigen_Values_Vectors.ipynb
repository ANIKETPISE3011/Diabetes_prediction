{
 "cells": [
  {
   "cell_type": "markdown",
   "metadata": {
    "id": "LzI6wa2p0Di7"
   },
   "source": [
    "**Performing matrix multiplication and finding eigen vectors and eigen values using TensorFlow**"
   ]
  },
  {
   "cell_type": "code",
   "execution_count": 1,
   "metadata": {
    "colab": {
     "base_uri": "https://localhost:8080/"
    },
    "id": "dFZM_4BJxf0_",
    "outputId": "fe497db6-0fce-4a4f-93fa-28f9a3c07f9c"
   },
   "outputs": [
    {
     "name": "stdout",
     "output_type": "stream",
     "text": [
      "Printing the Original square array:\n",
      " [[1 2]\n",
      " [2 3]]\n",
      "\n",
      "***************************************\n",
      "\n",
      "Printing the Eigen values of the given square array:\n",
      " [-0.23606798  4.23606798]\n",
      "\n",
      "Printing Right Eigen Vectors of the given square array:\n",
      " [[-0.85065081 -0.52573111]\n",
      " [ 0.52573111 -0.85065081]]\n"
     ]
    }
   ],
   "source": [
    "# importing numpy library\n",
    "import numpy as np\n",
    "\n",
    "# create numpy 2d-array\n",
    "m = np.array([[1, 2],\n",
    "\t\t\t[2, 3]])\n",
    "\n",
    "print(\"Printing the Original square array:\\n\",m)\n",
    "print()\n",
    "print('***************************************')\n",
    "print()\n",
    "# finding eigenvalues and eigenvectors\n",
    "w, v = np.linalg.eig(m)\n",
    "\n",
    "# printing eigen values\n",
    "print(\"Printing the Eigen values of the given square array:\\n\",w)\n",
    "print()\n",
    "# printing eigen vectors\n",
    "print(\"Printing Right Eigen Vectors of the given square array:\\n\",v)\n"
   ]
  },
  {
   "cell_type": "code",
   "execution_count": 2,
   "metadata": {
    "colab": {
     "base_uri": "https://localhost:8080/"
    },
    "id": "7jLhbkVgxuIU",
    "outputId": "e8ea7cf3-c4e3-425a-db11-07aebe90c8e8"
   },
   "outputs": [
    {
     "name": "stdout",
     "output_type": "stream",
     "text": [
      "Printing the Original square array:\n",
      " [[1 2 3]\n",
      " [2 3 4]\n",
      " [4 5 6]]\n",
      "\n",
      "***************************************\n",
      "\n",
      "Printing the Eigen values of the given square array:\n",
      " [ 1.08309519e+01 -8.30951895e-01 -1.24701000e-16]\n",
      "\n",
      "Printing Right eigenvectors of the given square array:\n",
      " [[ 0.34416959  0.72770285  0.40824829]\n",
      " [ 0.49532111  0.27580256 -0.81649658]\n",
      " [ 0.79762415 -0.62799801  0.40824829]]\n"
     ]
    }
   ],
   "source": [
    "# importing numpy library\n",
    "import numpy as np\n",
    "# create numpy 2d-array\n",
    "m = np.array([[1, 2, 3],\n",
    "            [2, 3, 4],\n",
    "            [4, 5, 6]])\n",
    "print(\"Printing the Original square array:\\n\",m)\n",
    "print()\n",
    "print('***************************************')\n",
    "print()\n",
    "# finding eigenvalues and eigenvectors\n",
    "w, v = np.linalg.eig(m)\n",
    "# printing eigen values\n",
    "print(\"Printing the Eigen values of the given square array:\\n\",w)\n",
    "print()\n",
    "# printing eigen vectors\n",
    "print(\"Printing Right eigenvectors of the given square array:\\n\",v)\n"
   ]
  },
  {
   "cell_type": "code",
   "execution_count": 3,
   "metadata": {},
   "outputs": [],
   "source": [
    "#!pip install tensorflow"
   ]
  },
  {
   "cell_type": "code",
   "execution_count": 4,
   "metadata": {},
   "outputs": [],
   "source": [
    "#!pip install tensorflow[and-cuda]"
   ]
  },
  {
   "cell_type": "code",
   "execution_count": 5,
   "metadata": {
    "id": "lkspdWndzRdz"
   },
   "outputs": [],
   "source": [
    "import tensorflow as tf"
   ]
  },
  {
   "cell_type": "code",
   "execution_count": 6,
   "metadata": {
    "colab": {
     "base_uri": "https://localhost:8080/"
    },
    "id": "w3cO6bxo0af8",
    "outputId": "c7cc83fd-2940-4b3c-ec42-8e4e627b1609"
   },
   "outputs": [
    {
     "name": "stdout",
     "output_type": "stream",
     "text": [
      "Matrix A: \n",
      "[[6.7160854 6.5678186]\n",
      " [4.0427275 4.684779 ]]\n",
      "\n",
      "\n"
     ]
    }
   ],
   "source": [
    "# Let's see how we can compute the eigen vectors and values from a matrix\n",
    "\n",
    "e_matrix_A = tf.random.uniform([2, 2], minval=3, maxval=10, dtype=tf.float32, name=\"matrixA\")\n",
    "\n",
    "print(\"Matrix A: \\n{}\\n\\n\".format(e_matrix_A))"
   ]
  },
  {
   "cell_type": "code",
   "execution_count": 7,
   "metadata": {
    "colab": {
     "base_uri": "https://localhost:8080/"
    },
    "id": "veC44fYd0gE4",
    "outputId": "656ae46c-85d5-4b19-e9c6-3d4ff03fa8d6"
   },
   "outputs": [
    {
     "name": "stdout",
     "output_type": "stream",
     "text": [
      "Eigen Vectors: \n",
      "[[-0.6149561  0.7885613]\n",
      " [ 0.7885613  0.6149561]] \n",
      "\n",
      "Eigen Values: \n",
      "[1.5320758 9.868789 ]\n",
      "\n"
     ]
    }
   ],
   "source": [
    "# Calculating the eigen values and vectors using tf.linalg.eigh, if you only want the values you can use eigvalsh\n",
    "eigen_values_A, eigen_vectors_A = tf.linalg.eigh(e_matrix_A)\n",
    "print(\"Eigen Vectors: \\n{} \\n\\nEigen Values: \\n{}\\n\".format(eigen_vectors_A, eigen_values_A))"
   ]
  },
  {
   "cell_type": "code",
   "execution_count": 8,
   "metadata": {
    "colab": {
     "base_uri": "https://localhost:8080/"
    },
    "id": "qAnp92WZ0qPk",
    "outputId": "9979e143-f72e-40d3-ebd5-a8f9fe83fbed"
   },
   "outputs": [
    {
     "name": "stdout",
     "output_type": "stream",
     "text": [
      "Matrix A: \n",
      "[[5.751328  3.3139641 9.2635765]\n",
      " [3.346796  7.735252  4.691977 ]\n",
      " [3.9163644 8.441784  7.1975718]]\n",
      "\n",
      "\n"
     ]
    }
   ],
   "source": [
    "# Let's see how we can compute the eigen vectors and values from a matrix\n",
    "\n",
    "e_matrix_A = tf.random.uniform([3, 3], minval=3, maxval=10, dtype=tf.float32, name=\"matrixA\")\n",
    "\n",
    "print(\"Matrix A: \\n{}\\n\\n\".format(e_matrix_A))"
   ]
  },
  {
   "cell_type": "code",
   "execution_count": 9,
   "metadata": {
    "colab": {
     "base_uri": "https://localhost:8080/"
    },
    "id": "y1VpeSaE07oo",
    "outputId": "2cbab9b2-023a-4a77-f10c-c806a8f6de09"
   },
   "outputs": [
    {
     "name": "stdout",
     "output_type": "stream",
     "text": [
      "Eigen Vectors: \n",
      "[[ 0.09232178 -0.9182351   0.38512453]\n",
      " [ 0.6724373   0.34275144  0.6560104 ]\n",
      " [-0.7343738   0.19840813  0.64909893]] \n",
      "\n",
      "Eigen Values: \n",
      "[-1.0245855  3.6558332 18.052906 ]\n",
      "\n"
     ]
    }
   ],
   "source": [
    "# Calculating the eigen values and vectors using tf.linalg.eigh, if you only want the values you can use eigvalsh\n",
    "eigen_values_A, eigen_vectors_A = tf.linalg.eigh(e_matrix_A)\n",
    "print(\"Eigen Vectors: \\n{} \\n\\nEigen Values: \\n{}\\n\".format(eigen_vectors_A, eigen_values_A))"
   ]
  },
  {
   "cell_type": "code",
   "execution_count": null,
   "metadata": {
    "id": "SSpLmnfj0-yM"
   },
   "outputs": [],
   "source": []
  },
  {
   "cell_type": "code",
   "execution_count": null,
   "metadata": {},
   "outputs": [],
   "source": []
  }
 ],
 "metadata": {
  "colab": {
   "collapsed_sections": [],
   "name": "Eigen_Values_Vectors.ipynb",
   "provenance": []
  },
  "kernelspec": {
   "display_name": "Python 3 (ipykernel)",
   "language": "python",
   "name": "python3"
  },
  "language_info": {
   "codemirror_mode": {
    "name": "ipython",
    "version": 3
   },
   "file_extension": ".py",
   "mimetype": "text/x-python",
   "name": "python",
   "nbconvert_exporter": "python",
   "pygments_lexer": "ipython3",
   "version": "3.11.4"
  }
 },
 "nbformat": 4,
 "nbformat_minor": 1
}
