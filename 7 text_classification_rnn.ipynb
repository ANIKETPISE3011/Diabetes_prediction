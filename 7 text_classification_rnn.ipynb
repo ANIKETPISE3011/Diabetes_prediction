{
 "cells": [
  {
   "cell_type": "code",
   "execution_count": 1,
   "metadata": {
    "id": "z682XYsrjkY9"
   },
   "outputs": [],
   "source": [
    " #pip install tensorflow_datasets"
   ]
  },
  {
   "cell_type": "code",
   "execution_count": 2,
   "metadata": {},
   "outputs": [],
   "source": [
    "import numpy as np\n",
    "import tensorflow_datasets as tfds\n",
    "import tensorflow as tf\n",
    "tfds.disable_progress_bar()"
   ]
  },
  {
   "cell_type": "code",
   "execution_count": null,
   "metadata": {},
   "outputs": [],
   "source": []
  },
  {
   "cell_type": "code",
   "execution_count": 3,
   "metadata": {
    "id": "Mp1Z7P9pYRSK"
   },
   "outputs": [],
   "source": [
    "import matplotlib.pyplot as plt\n",
    "\n",
    "\n",
    "def plot_graphs(history, metric):\n",
    "  plt.plot(history.history[metric])\n",
    "  plt.plot(history.history['val_'+metric], '')\n",
    "  plt.xlabel(\"Epochs\")\n",
    "  plt.ylabel(metric)\n",
    "  plt.legend([metric, 'val_'+metric])"
   ]
  },
  {
   "cell_type": "code",
   "execution_count": 4,
   "metadata": {
    "colab": {
     "base_uri": "https://localhost:8080/"
    },
    "id": "SHRwRoP2nVHX",
    "outputId": "e5105d0e-52b4-4dbf-daa9-f77c763d2548"
   },
   "outputs": [
    {
     "data": {
      "text/plain": [
       "(TensorSpec(shape=(), dtype=tf.string, name=None),\n",
       " TensorSpec(shape=(), dtype=tf.int64, name=None))"
      ]
     },
     "execution_count": 4,
     "metadata": {},
     "output_type": "execute_result"
    }
   ],
   "source": [
    "dataset, info = tfds.load('imdb_reviews', with_info=True,\n",
    "                          as_supervised=True)\n",
    "train_dataset, test_dataset = dataset['train'], dataset['test']\n",
    "\n",
    "train_dataset.element_spec"
   ]
  },
  {
   "cell_type": "code",
   "execution_count": 5,
   "metadata": {
    "colab": {
     "base_uri": "https://localhost:8080/"
    },
    "id": "vd4_BGKyurao",
    "outputId": "de20a49f-33c6-4c2a-e9d5-a5e2e5110bee"
   },
   "outputs": [
    {
     "name": "stdout",
     "output_type": "stream",
     "text": [
      "text:  b\"This was an absolutely terrible movie. Don't be lured in by Christopher Walken or Michael Ironside. Both are great actors, but this must simply be their worst role in history. Even their great acting could not redeem this movie's ridiculous storyline. This movie is an early nineties US propaganda piece. The most pathetic scenes were those when the Columbian rebels were making their cases for revolutions. Maria Conchita Alonso appeared phony, and her pseudo-love affair with Walken was nothing but a pathetic emotional plug in a movie that was devoid of any real meaning. I am disappointed that there are movies like this, ruining actor's like Christopher Walken's good name. I could barely sit through it.\"\n",
      "label:  0\n",
      "text:  b'I have been known to fall asleep during films, but this is usually due to a combination of things including, really tired, being warm and comfortable on the sette and having just eaten a lot. However on this occasion I fell asleep because the film was rubbish. The plot development was constant. Constantly slow and boring. Things seemed to happen, but with no explanation of what was causing them or why. I admit, I may have missed part of the film, but i watched the majority of it and everything just seemed to happen of its own accord without any real concern for anything else. I cant recommend this film at all.'\n",
      "label:  0\n",
      "text:  b'Mann photographs the Alberta Rocky Mountains in a superb fashion, and Jimmy Stewart and Walter Brennan give enjoyable performances as they always seem to do. <br /><br />But come on Hollywood - a Mountie telling the people of Dawson City, Yukon to elect themselves a marshal (yes a marshal!) and to enforce the law themselves, then gunfighters battling it out on the streets for control of the town? <br /><br />Nothing even remotely resembling that happened on the Canadian side of the border during the Klondike gold rush. Mr. Mann and company appear to have mistaken Dawson City for Deadwood, the Canadian North for the American Wild West.<br /><br />Canadian viewers be prepared for a Reefer Madness type of enjoyable howl with this ludicrous plot, or, to shake your head in disgust.'\n",
      "label:  0\n",
      "text:  b'This is the kind of film for a snowy Sunday afternoon when the rest of the world can go ahead with its own business as you descend into a big arm-chair and mellow for a couple of hours. Wonderful performances from Cher and Nicolas Cage (as always) gently row the plot along. There are no rapids to cross, no dangerous waters, just a warm and witty paddle through New York life at its best. A family film in every sense and one that deserves the praise it received.'\n",
      "label:  1\n",
      "text:  b'As others have mentioned, all the women that go nude in this film are mostly absolutely gorgeous. The plot very ably shows the hypocrisy of the female libido. When men are around they want to be pursued, but when no \"men\" are around, they become the pursuers of a 14 year old boy. And the boy becomes a man really fast (we should all be so lucky at this age!). He then gets up the courage to pursue his true love.'\n",
      "label:  1\n"
     ]
    }
   ],
   "source": [
    "for example, label in train_dataset.take(5):\n",
    "  print('text: ', example.numpy())\n",
    "  print('label: ', label.numpy())"
   ]
  },
  {
   "cell_type": "code",
   "execution_count": 6,
   "metadata": {
    "id": "dDsCaZCDYZgm"
   },
   "outputs": [],
   "source": [
    "BUFFER_SIZE = 10000\n",
    "BATCH_SIZE = 64"
   ]
  },
  {
   "cell_type": "code",
   "execution_count": 7,
   "metadata": {
    "id": "VznrltNOnUc5"
   },
   "outputs": [],
   "source": [
    "train_dataset = train_dataset.shuffle(BUFFER_SIZE).batch(BATCH_SIZE).prefetch(tf.data.AUTOTUNE)\n",
    "test_dataset = test_dataset.batch(BATCH_SIZE).prefetch(tf.data.AUTOTUNE)"
   ]
  },
  {
   "cell_type": "code",
   "execution_count": 8,
   "metadata": {
    "colab": {
     "base_uri": "https://localhost:8080/"
    },
    "id": "jqkvdcFv41wC",
    "outputId": "b61de4bc-c84e-49b8-ed1c-c5f2646e922d"
   },
   "outputs": [
    {
     "name": "stdout",
     "output_type": "stream",
     "text": [
      "texts:  [b\"I wanted to love this movie. How could I not love it? Cary Grant, Jayne Mansfield, Stanley Donen; all icons in their own way. However, the train wreck that was Suzy Parker ruined the entire experience for me. Her acting was so appalling that I sat there with my jaw hanging open, not believing my eyes or ears. I could barely make it through one viewing, THAT'S how hideous she is in this.<br /><br />Cary? Gorgeous and in fine dramatic form. Jayne? Adorable, endearing, and obviously having a ball. The supporting cast does alright, and the city of San Francisco is captured in all its stunning, retro elegance.<br /><br />Then you see Suzy Parker attempting to speak her lines with a woodenness, a deadness, a cluelessness that simply defies belief. Who told this creature she could ACT?? Oy VEY, people.\"\n",
      " b'There\\'s a certain allure I\\'ve always found in discovering the great (semi-) unknown film. These discoveries have nearly always been dramatic films - in my experience, unknown sci-fi, action and horror are unknown for very, very good reasons. I found \"High Tide\" on video at a junk store, mixed in amongst countless dozens of tapes of varying quality. Of course, that\\'s the only place I would find it, as it is still not on DVD.<br /><br />While I was watching Judy Davis (as Lillie) throughout the course of this film, I was somehow certain I was watching a great undiscovered performance. Yes, I had previously seen Davis in several small parts - and one starring role in \"A Passage to India\". But, although she was superb in the aforementioned film, \"High Tide\" is a different animal entirely. Since recently watching Gillian Armstrong\\'s later film, \"Charlotte Gray\", I was acutely aware of the sort of actress which impresses her. Davis draws much more than a passing resemblance to Cate Blanchett - in both manner and sensibility.<br /><br />Judy Davis\\' performance is stunning, I cannot say enough good things about it. She shares an amazing on-screen relationship with young Claudia Karvan (as Ally), this film\\'s other great actress. There\\'s a lot of drama and quiet humanity they share together, the details of which I won\\'t presume to reveal here (see it for yourself!). There\\'s too much good in \"High Tide\" to cover in one review. Indeed, I would hardly care to - the film speaks well enough for itself. In conclusion, I would like to praise screenwriter Laura Jones for her stunning dialogue, director Gillian Armstrong for her understanding of actors, and the great Russell Boyd for his brilliant, understated cinematography (please see his work in \"Tender Mercies\").'\n",
      " b\"De Grot is a very good film. The great plot comes from the novel by Tim Krabb\\xc3\\xa9, who also adapted this story for the screen. Some really top-class acting, not only by Van Hu\\xc3\\xaat, but especially by Marcel Hensema, who mostly did TV-work prior to his performance of Axel van de Graaf. The film seems to kick of as a thriller, and sets an excellent mood. Then we start to learn about Egon Wagter and Axel van de Graaf, and the story is revealed bit by bit in a very compelling flash-back structure, which adds to the more romantic aspect and the character-driven drama of the movie. In the end this all culminates into an emotional ending, that will grab audiences by their throats. Make sure you know as little as possible about the plot when you are going to see this movie. A must-see, especially if you liked 'Spoorloos' (The Vanishing's original screen adaptation).\"]\n",
      "\n",
      "labels:  [0 1 1]\n"
     ]
    }
   ],
   "source": [
    "for example, label in train_dataset.take(1):\n",
    "  print('texts: ', example.numpy()[:3])\n",
    "  print()\n",
    "  print('labels: ', label.numpy()[:3])"
   ]
  },
  {
   "cell_type": "code",
   "execution_count": 9,
   "metadata": {
    "id": "uC25Lu1Yvuqy"
   },
   "outputs": [],
   "source": [
    "VOCAB_SIZE = 1000\n",
    "encoder = tf.keras.layers.TextVectorization(max_tokens=VOCAB_SIZE)\n",
    "encoder.adapt(train_dataset.map(lambda text, label: text))"
   ]
  },
  {
   "cell_type": "code",
   "execution_count": 10,
   "metadata": {
    "colab": {
     "base_uri": "https://localhost:8080/"
    },
    "id": "tBoyjjWg0Ac9",
    "outputId": "e2d15cbc-6dd4-4197-dacd-037cb26a0e97"
   },
   "outputs": [
    {
     "data": {
      "text/plain": [
       "array(['', '[UNK]', 'the', 'and', 'a', 'of', 'to', 'is', 'in', 'it', 'i',\n",
       "       'this', 'that', 'br', 'was', 'as', 'for', 'with', 'movie', 'but'],\n",
       "      dtype='<U14')"
      ]
     },
     "execution_count": 10,
     "metadata": {},
     "output_type": "execute_result"
    }
   ],
   "source": [
    "vocab = np.array(encoder.get_vocabulary())\n",
    "vocab[:20]"
   ]
  },
  {
   "cell_type": "code",
   "execution_count": 11,
   "metadata": {
    "colab": {
     "base_uri": "https://localhost:8080/"
    },
    "id": "RGc7C9WiwRWs",
    "outputId": "711af053-eaf2-4156-e333-b65383fb86cc"
   },
   "outputs": [
    {
     "data": {
      "text/plain": [
       "array([[ 10, 453,   6, ...,   0,   0,   0],\n",
       "       [213,   4, 772, ...,   0,   0,   0],\n",
       "       [842,   1,   7, ...,   0,   0,   0]], dtype=int64)"
      ]
     },
     "execution_count": 11,
     "metadata": {},
     "output_type": "execute_result"
    }
   ],
   "source": [
    "encoded_example = encoder(example)[:3].numpy()\n",
    "encoded_example"
   ]
  },
  {
   "cell_type": "code",
   "execution_count": 12,
   "metadata": {
    "colab": {
     "base_uri": "https://localhost:8080/"
    },
    "id": "N_tD0QY5wXaK",
    "outputId": "f2342609-2230-498e-8436-483b560c90f9"
   },
   "outputs": [
    {
     "name": "stdout",
     "output_type": "stream",
     "text": [
      "Original:  b\"I wanted to love this movie. How could I not love it? Cary Grant, Jayne Mansfield, Stanley Donen; all icons in their own way. However, the train wreck that was Suzy Parker ruined the entire experience for me. Her acting was so appalling that I sat there with my jaw hanging open, not believing my eyes or ears. I could barely make it through one viewing, THAT'S how hideous she is in this.<br /><br />Cary? Gorgeous and in fine dramatic form. Jayne? Adorable, endearing, and obviously having a ball. The supporting cast does alright, and the city of San Francisco is captured in all its stunning, retro elegance.<br /><br />Then you see Suzy Parker attempting to speak her lines with a woodenness, a deadness, a cluelessness that simply defies belief. Who told this creature she could ACT?? Oy VEY, people.\"\n",
      "Round-trip:  i wanted to love this movie how could i not love it [UNK] [UNK] [UNK] [UNK] [UNK] [UNK] all [UNK] in their own way however the [UNK] [UNK] that was [UNK] [UNK] [UNK] the entire experience for me her acting was so [UNK] that i [UNK] there with my [UNK] [UNK] open not [UNK] my eyes or [UNK] i could [UNK] make it through one viewing thats how [UNK] she is in [UNK] br [UNK] [UNK] and in fine dramatic form [UNK] [UNK] [UNK] and obviously having a [UNK] the supporting cast does [UNK] and the city of [UNK] [UNK] is [UNK] in all its [UNK] [UNK] [UNK] br then you see [UNK] [UNK] [UNK] to [UNK] her lines with a [UNK] a [UNK] a [UNK] that simply [UNK] [UNK] who told this [UNK] she could act [UNK] [UNK] people                                                                                                                                                                                                                                                                                                                                                                                                                                                                                                                                                                                                                                                                                                                                                                                                                                                                         \n",
      "\n",
      "Original:  b'There\\'s a certain allure I\\'ve always found in discovering the great (semi-) unknown film. These discoveries have nearly always been dramatic films - in my experience, unknown sci-fi, action and horror are unknown for very, very good reasons. I found \"High Tide\" on video at a junk store, mixed in amongst countless dozens of tapes of varying quality. Of course, that\\'s the only place I would find it, as it is still not on DVD.<br /><br />While I was watching Judy Davis (as Lillie) throughout the course of this film, I was somehow certain I was watching a great undiscovered performance. Yes, I had previously seen Davis in several small parts - and one starring role in \"A Passage to India\". But, although she was superb in the aforementioned film, \"High Tide\" is a different animal entirely. Since recently watching Gillian Armstrong\\'s later film, \"Charlotte Gray\", I was acutely aware of the sort of actress which impresses her. Davis draws much more than a passing resemblance to Cate Blanchett - in both manner and sensibility.<br /><br />Judy Davis\\' performance is stunning, I cannot say enough good things about it. She shares an amazing on-screen relationship with young Claudia Karvan (as Ally), this film\\'s other great actress. There\\'s a lot of drama and quiet humanity they share together, the details of which I won\\'t presume to reveal here (see it for yourself!). There\\'s too much good in \"High Tide\" to cover in one review. Indeed, I would hardly care to - the film speaks well enough for itself. In conclusion, I would like to praise screenwriter Laura Jones for her stunning dialogue, director Gillian Armstrong for her understanding of actors, and the great Russell Boyd for his brilliant, understated cinematography (please see his work in \"Tender Mercies\").'\n",
      "Round-trip:  theres a certain [UNK] ive always found in [UNK] the great [UNK] [UNK] film these [UNK] have nearly always been dramatic films in my experience [UNK] scifi action and horror are [UNK] for very very good [UNK] i found high [UNK] on video at a [UNK] [UNK] [UNK] in [UNK] [UNK] [UNK] of [UNK] of [UNK] quality of course thats the only place i would find it as it is still not on [UNK] br while i was watching [UNK] [UNK] as [UNK] throughout the course of this film i was somehow certain i was watching a great [UNK] performance yes i had [UNK] seen [UNK] in several small parts and one [UNK] role in a [UNK] to [UNK] but although she was superb in the [UNK] film high [UNK] is a different [UNK] [UNK] since [UNK] watching [UNK] [UNK] later film [UNK] [UNK] i was [UNK] [UNK] of the sort of actress which [UNK] her [UNK] [UNK] much more than a [UNK] [UNK] to [UNK] [UNK] in both [UNK] and [UNK] br [UNK] [UNK] performance is [UNK] i cannot say enough good things about it she [UNK] an amazing [UNK] relationship with young [UNK] [UNK] as [UNK] this films other great actress theres a lot of drama and [UNK] [UNK] they [UNK] together the [UNK] of which i wont [UNK] to [UNK] here see it for yourself theres too much good in high [UNK] to [UNK] in one review indeed i would hardly care to the film [UNK] well enough for itself in [UNK] i would like to [UNK] [UNK] [UNK] [UNK] for her [UNK] dialogue director [UNK] [UNK] for her [UNK] of actors and the great [UNK] [UNK] for his brilliant [UNK] cinematography please see his work in [UNK] [UNK]                                                                                                                                                                                                                                                                                                                                                                                                                                                                                                                                                                                                                                                                                                                 \n",
      "\n",
      "Original:  b\"De Grot is a very good film. The great plot comes from the novel by Tim Krabb\\xc3\\xa9, who also adapted this story for the screen. Some really top-class acting, not only by Van Hu\\xc3\\xaat, but especially by Marcel Hensema, who mostly did TV-work prior to his performance of Axel van de Graaf. The film seems to kick of as a thriller, and sets an excellent mood. Then we start to learn about Egon Wagter and Axel van de Graaf, and the story is revealed bit by bit in a very compelling flash-back structure, which adds to the more romantic aspect and the character-driven drama of the movie. In the end this all culminates into an emotional ending, that will grab audiences by their throats. Make sure you know as little as possible about the plot when you are going to see this movie. A must-see, especially if you liked 'Spoorloos' (The Vanishing's original screen adaptation).\"\n",
      "Round-trip:  de [UNK] is a very good film the great plot comes from the novel by [UNK] [UNK] who also [UNK] this story for the screen some really [UNK] acting not only by [UNK] [UNK] but especially by [UNK] [UNK] who mostly did [UNK] [UNK] to his performance of [UNK] [UNK] de [UNK] the film seems to [UNK] of as a thriller and sets an excellent [UNK] then we start to learn about [UNK] [UNK] and [UNK] [UNK] de [UNK] and the story is [UNK] bit by bit in a very [UNK] [UNK] [UNK] which [UNK] to the more romantic [UNK] and the [UNK] drama of the movie in the end this all [UNK] into an emotional ending that will [UNK] [UNK] by their [UNK] make sure you know as little as possible about the plot when you are going to see this movie a [UNK] especially if you liked [UNK] the [UNK] original screen [UNK]                                                                                                                                                                                                                                                                                                                                                                                                                                                                                                                                                                                                                                                                                                                                                                                                                                                          \n",
      "\n"
     ]
    }
   ],
   "source": [
    "for n in range(3):\n",
    "  print(\"Original: \", example[n].numpy())\n",
    "  print(\"Round-trip: \", \" \".join(vocab[encoded_example[n]]))\n",
    "  print()"
   ]
  },
  {
   "cell_type": "code",
   "execution_count": 13,
   "metadata": {
    "id": "LwfoBkmRYcP3"
   },
   "outputs": [],
   "source": [
    "model = tf.keras.Sequential([\n",
    "    encoder,\n",
    "    tf.keras.layers.Embedding(\n",
    "        input_dim=len(encoder.get_vocabulary()),\n",
    "        output_dim=64,\n",
    "        # Use masking to handle the variable sequence lengths\n",
    "        mask_zero=True),\n",
    "    tf.keras.layers.Bidirectional(tf.keras.layers.LSTM(64)),\n",
    "    tf.keras.layers.Dense(64, activation='relu'),\n",
    "    tf.keras.layers.Dense(1)\n",
    "])"
   ]
  },
  {
   "cell_type": "code",
   "execution_count": 14,
   "metadata": {
    "colab": {
     "base_uri": "https://localhost:8080/"
    },
    "id": "87a8-CwfKebw",
    "outputId": "b3f8e0bd-8d43-4c3e-e64a-5dfe5e876ab3"
   },
   "outputs": [
    {
     "name": "stdout",
     "output_type": "stream",
     "text": [
      "[False, True, True, True, True]\n"
     ]
    }
   ],
   "source": [
    "print([layer.supports_masking for layer in model.layers])"
   ]
  },
  {
   "cell_type": "code",
   "execution_count": 15,
   "metadata": {
    "colab": {
     "base_uri": "https://localhost:8080/"
    },
    "id": "O41gw3KfWHus",
    "outputId": "7e562b3d-19cf-4198-e3de-cec93da2500f"
   },
   "outputs": [
    {
     "name": "stdout",
     "output_type": "stream",
     "text": [
      "1/1 [==============================] - 2s 2s/step\n",
      "[0.0015257]\n"
     ]
    }
   ],
   "source": [
    "# predict on a sample text without padding.\n",
    "\n",
    "sample_text = ('The movie was cool. The animation and the graphics '\n",
    "               'were out of this world. I would recommend this movie.')\n",
    "predictions = model.predict(np.array([sample_text]))\n",
    "print(predictions[0])"
   ]
  },
  {
   "cell_type": "code",
   "execution_count": 16,
   "metadata": {
    "colab": {
     "base_uri": "https://localhost:8080/"
    },
    "id": "UIgpuTeFNDzq",
    "outputId": "a2ffc9e9-3cb7-422a-c865-6d0b381dd7fe"
   },
   "outputs": [
    {
     "name": "stdout",
     "output_type": "stream",
     "text": [
      "1/1 [==============================] - 0s 187ms/step\n",
      "[0.0015257]\n"
     ]
    }
   ],
   "source": [
    "# predict on a sample text with padding\n",
    "\n",
    "padding = \"the \" * 2000\n",
    "predictions = model.predict(np.array([sample_text, padding]))\n",
    "print(predictions[0])"
   ]
  },
  {
   "cell_type": "code",
   "execution_count": 17,
   "metadata": {
    "id": "kj2xei41YZjC"
   },
   "outputs": [],
   "source": [
    "model.compile(loss=tf.keras.losses.BinaryCrossentropy(from_logits=True),\n",
    "              optimizer=tf.keras.optimizers.Adam(1e-4),\n",
    "              metrics=['accuracy'])"
   ]
  },
  {
   "cell_type": "code",
   "execution_count": 18,
   "metadata": {
    "colab": {
     "base_uri": "https://localhost:8080/"
    },
    "id": "hw86wWS4YgR2",
    "outputId": "a91f470f-2caa-4616-ff69-6e04bc814cf3"
   },
   "outputs": [
    {
     "name": "stdout",
     "output_type": "stream",
     "text": [
      "391/391 [==============================] - 1029s 3s/step - loss: 0.6299 - accuracy: 0.5790 - val_loss: 0.4547 - val_accuracy: 0.7995\n"
     ]
    }
   ],
   "source": [
    "history = model.fit(train_dataset, epochs=1,\n",
    "                    validation_data=test_dataset,\n",
    "                    validation_steps=30)"
   ]
  },
  {
   "cell_type": "code",
   "execution_count": 19,
   "metadata": {
    "colab": {
     "base_uri": "https://localhost:8080/"
    },
    "id": "BaNbXi43YgUT",
    "outputId": "98c2eea8-3584-4255-f7cd-af4563e6c2e5"
   },
   "outputs": [
    {
     "name": "stdout",
     "output_type": "stream",
     "text": [
      "391/391 [==============================] - 140s 359ms/step - loss: 0.4528 - accuracy: 0.7966\n",
      "Test Loss: 0.4528031349182129\n",
      "Test Accuracy: 0.7966399788856506\n"
     ]
    }
   ],
   "source": [
    "test_loss, test_acc = model.evaluate(test_dataset)\n",
    "\n",
    "print('Test Loss:', test_loss)\n",
    "print('Test Accuracy:', test_acc)"
   ]
  },
  {
   "cell_type": "code",
   "execution_count": 20,
   "metadata": {
    "colab": {
     "base_uri": "https://localhost:8080/",
     "height": 519
    },
    "id": "OZmwt_mzaQJk",
    "outputId": "3c601e7e-fe2e-40a8-ab78-e35416a3bd0f"
   },
   "outputs": [
    {
     "data": {
      "text/plain": [
       "(0.0, 0.6386515289545059)"
      ]
     },
     "execution_count": 20,
     "metadata": {},
     "output_type": "execute_result"
    },
    {
     "data": {
      "image/png": "[encoded data removed]",
      "text/plain": [
       "<Figure size 1600x800 with 2 Axes>"
      ]
     },
     "metadata": {},
     "output_type": "display_data"
    }
   ],
   "source": [
    "plt.figure(figsize=(16, 8))\n",
    "plt.subplot(1, 2, 1)\n",
    "plot_graphs(history, 'accuracy')\n",
    "plt.ylim(None, 1)\n",
    "plt.subplot(1, 2, 2)\n",
    "plot_graphs(history, 'loss')\n",
    "plt.ylim(0, None)"
   ]
  },
  {
   "cell_type": "code",
   "execution_count": 21,
   "metadata": {
    "id": "ZXgfQSgRW6zU"
   },
   "outputs": [
    {
     "name": "stdout",
     "output_type": "stream",
     "text": [
      "1/1 [==============================] - 3s 3s/step\n"
     ]
    }
   ],
   "source": [
    "sample_text = ('The movie was cool. The animation and the graphics '\n",
    "               'were out of this world. I would recommend this movie.')\n",
    "predictions = model.predict(np.array([sample_text]))"
   ]
  },
  {
   "cell_type": "code",
   "execution_count": 22,
   "metadata": {
    "colab": {
     "base_uri": "https://localhost:8080/"
    },
    "id": "69SSKKg4357Y",
    "outputId": "b56cb437-a844-4908-e350-aa0f84d3a838"
   },
   "outputs": [
    {
     "data": {
      "text/plain": [
       "array([[-0.03693609]], dtype=float32)"
      ]
     },
     "execution_count": 22,
     "metadata": {},
     "output_type": "execute_result"
    }
   ],
   "source": [
    "predictions"
   ]
  },
  {
   "cell_type": "code",
   "execution_count": 23,
   "metadata": {
    "id": "jo1jjO3vn0jo"
   },
   "outputs": [],
   "source": [
    "model = tf.keras.Sequential([\n",
    "    encoder,\n",
    "    tf.keras.layers.Embedding(len(encoder.get_vocabulary()), 64, mask_zero=True),\n",
    "    tf.keras.layers.Bidirectional(tf.keras.layers.LSTM(64,  return_sequences=True)),\n",
    "    tf.keras.layers.Bidirectional(tf.keras.layers.LSTM(32)),\n",
    "    tf.keras.layers.Dense(64, activation='relu'),\n",
    "    tf.keras.layers.Dropout(0.5),\n",
    "    tf.keras.layers.Dense(1)\n",
    "])"
   ]
  },
  {
   "cell_type": "code",
   "execution_count": 24,
   "metadata": {
    "id": "hEPV5jVGp-is"
   },
   "outputs": [],
   "source": [
    "model.compile(loss=tf.keras.losses.BinaryCrossentropy(from_logits=True),\n",
    "              optimizer=tf.keras.optimizers.Adam(1e-4),\n",
    "              metrics=['accuracy'])"
   ]
  },
  {
   "cell_type": "code",
   "execution_count": null,
   "metadata": {
    "colab": {
     "base_uri": "https://localhost:8080/"
    },
    "id": "LeSE-YjdqAeN",
    "outputId": "5ff1873b-3861-4e95-f6ea-eca43bccda70"
   },
   "outputs": [
    {
     "name": "stdout",
     "output_type": "stream",
     "text": [
      "Epoch 1/10\n",
      " 79/391 [=====>........................] - ETA: 21:11 - loss: 0.6927 - accuracy: 0.5008"
     ]
    }
   ],
   "source": [
    "history = model.fit(train_dataset, epochs=1,\n",
    "                    validation_data=test_dataset,\n",
    "                    validation_steps=30)"
   ]
  },
  {
   "cell_type": "code",
   "execution_count": null,
   "metadata": {
    "colab": {
     "base_uri": "https://localhost:8080/"
    },
    "id": "_LdwilM1qPM3",
    "outputId": "1a0fe97a-67c0-4c31-843f-7b2548e3bb29"
   },
   "outputs": [],
   "source": [
    "test_loss, test_acc = model.evaluate(test_dataset)\n",
    "\n",
    "print('Test Loss:', test_loss)\n",
    "print('Test Accuracy:', test_acc)"
   ]
  },
  {
   "cell_type": "code",
   "execution_count": null,
   "metadata": {
    "colab": {
     "base_uri": "https://localhost:8080/"
    },
    "id": "ykUKnAoqbycW",
    "outputId": "3d21ec93-c0d5-4fa4-ecb5-bf697dd15101"
   },
   "outputs": [],
   "source": [
    "# predict on a sample text without padding.\n",
    "\n",
    "sample_text = ('The movie was not good. The animation and the graphics '\n",
    "               'were terrible. I would not recommend this movie.')\n",
    "predictions = model.predict(np.array([sample_text]))\n",
    "print(predictions)"
   ]
  },
  {
   "cell_type": "code",
   "execution_count": null,
   "metadata": {
    "colab": {
     "base_uri": "https://localhost:8080/",
     "height": 388
    },
    "id": "_YYub0EDtwCu",
    "outputId": "04f0165c-74e9-435f-e926-e585c047ca18"
   },
   "outputs": [],
   "source": [
    "plt.figure(figsize=(16, 6))\n",
    "plt.subplot(1, 2, 1)\n",
    "plot_graphs(history, 'accuracy')\n",
    "plt.subplot(1, 2, 2)\n",
    "plot_graphs(history, 'loss')"
   ]
  }
 ],
 "metadata": {
  "accelerator": "GPU",
  "colab": {
   "provenance": []
  },
  "kernelspec": {
   "display_name": "Python 3 (ipykernel)",
   "language": "python",
   "name": "python3"
  },
  "language_info": {
   "codemirror_mode": {
    "name": "ipython",
    "version": 3
   },
   "file_extension": ".py",
   "mimetype": "text/x-python",
   "name": "python",
   "nbconvert_exporter": "python",
   "pygments_lexer": "ipython3",
   "version": "3.11.4"
  }
 },
 "nbformat": 4,
 "nbformat_minor": 4
}
