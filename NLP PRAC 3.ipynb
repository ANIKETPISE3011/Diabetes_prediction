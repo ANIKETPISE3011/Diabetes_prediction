{
 "cells": [
  {
   "cell_type": "code",
   "execution_count": 25,
   "id": "48f31595",
   "metadata": {},
   "outputs": [
    {
     "name": "stdout",
     "output_type": "stream",
     "text": [
      "[Synset('computer.n.01'), Synset('calculator.n.01')]\n",
      "a machine for performing calculations automatically\n",
      "Examples: []\n",
      "[Lemma('sell.v.01.sell')]\n"
     ]
    }
   ],
   "source": [
    "# 3a\n",
    "import nltk\n",
    "from nltk.corpus import wordnet\n",
    "print(wordnet.synsets(\"computer\"))\n",
    "\n",
    "print(wordnet.synset(\"computer.n.01\").definition())\n",
    "\n",
    "print(\"Examples:\", wordnet.synset(\"computer.n.01\").examples())\n",
    "\n",
    "print(wordnet.lemma('buy.v.01.buy').antonyms())"
   ]
  },
  {
   "cell_type": "code",
   "execution_count": null,
   "id": "179d47f5",
   "metadata": {},
   "outputs": [],
   "source": []
  },
  {
   "cell_type": "code",
   "execution_count": 32,
   "id": "3fefb99d",
   "metadata": {},
   "outputs": [
    {
     "name": "stdout",
     "output_type": "stream",
     "text": [
      "[Synset('computer.n.01'), Synset('calculator.n.01')]\n",
      "['computer', 'computing_machine', 'computing_device', 'data_processor', 'electronic_computer', 'information_processing_system']\n",
      "['computer', 'computing_machine', 'computing_device', 'data_processor', 'electronic_computer', 'information_processing_system']\n",
      "['calculator', 'reckoner', 'figurer', 'estimator', 'computer']\n",
      "[Lemma('computer.n.01.computer'), Lemma('computer.n.01.computing_machine'), Lemma('computer.n.01.computing_device'), Lemma('computer.n.01.data_processor'), Lemma('computer.n.01.electronic_computer'), Lemma('computer.n.01.information_processing_system')]\n",
      "Synset('computer.n.01')\n",
      "computing_device\n",
      "<bound method _WordNetObject.hyponyms of Synset('computer.n.01')>\n",
      "['analog_computer', 'analogue_computer', 'digital_computer', 'home_computer', 'node', 'client', 'guest', 'number_cruncher', 'pari-mutuel_machine', 'totalizer', 'totaliser', 'totalizator', 'totalisator', 'predictor', 'server', 'host', 'Turing_machine', 'web_site', 'website', 'internet_site', 'site']\n"
     ]
    }
   ],
   "source": [
    "#3b\n",
    "import nltk\n",
    "from nltk.corpus import wordnet\n",
    "print(wordnet.synsets(\"computer\"))\n",
    "print(wordnet.synset(\"computer.n.01\").lemma_names())\n",
    "\n",
    "for e in wordnet.synsets(\"computer\"):\n",
    "    print( e.lemma_names())\n",
    "\n",
    "print(wordnet.synset('computer.n.01').lemmas())\n",
    "\n",
    "print(wordnet.lemma('computer.n.01.computing_device').synset())\n",
    "\n",
    "print(wordnet.lemma('computer.n.01.computing_device').name())\n",
    "\n",
    "syn = wordnet.synset('computer.n.01')\n",
    "print(syn.hyponyms)\n",
    "print([lemma.name() for synset in syn.hyponyms() for lemma in synset.lemmas()])\n",
    "\n",
    "vehicle = wordnet.synset('vehicle.n.01')\n",
    "car = wordnet.synset('car.n.01')"
   ]
  },
  {
   "cell_type": "code",
   "execution_count": null,
   "id": "27da5f3d",
   "metadata": {},
   "outputs": [],
   "source": []
  },
  {
   "cell_type": "code",
   "execution_count": 27,
   "id": "03eca203",
   "metadata": {},
   "outputs": [
    {
     "name": "stdout",
     "output_type": "stream",
     "text": [
      "[Synset('active_agent.n.01'), Synset('active_voice.n.01'), Synset('active.n.03'), Synset('active.a.01'), Synset('active.s.02'), Synset('active.a.03'), Synset('active.s.04'), Synset('active.a.05'), Synset('active.a.06'), Synset('active.a.07'), Synset('active.s.08'), Synset('active.a.09'), Synset('active.a.10'), Synset('active.a.11'), Synset('active.a.12'), Synset('active.a.13'), Synset('active.a.14')]\n",
      "[Lemma('inactive.a.02.inactive')]\n"
     ]
    }
   ],
   "source": [
    "#3c\n",
    "from nltk.corpus import wordnet\n",
    "print( wordnet.synsets(\"active\"))\n",
    "print(wordnet.lemma('active.a.01.active').antonyms())"
   ]
  },
  {
   "cell_type": "code",
   "execution_count": null,
   "id": "7473ac3f",
   "metadata": {},
   "outputs": [],
   "source": []
  },
  {
   "cell_type": "code",
   "execution_count": 28,
   "id": "c9eb0831",
   "metadata": {},
   "outputs": [
    {
     "name": "stdout",
     "output_type": "stream",
     "text": [
      "Path similarity of: \n",
      "Synset('football.n.01') ( n ) [ any of various games played with a ball (round or oval) in which two teams try to kick or carry or propel the ball into each other's goal ]\n",
      "Synset('soccer.n.01') ( n ) [ a football game in which two teams of 11 players try to kick or head a ball into the opponents' goal ]\n",
      " is 0.5\n",
      "\n",
      "Path similarity of: \n",
      "Synset('football.n.02') ( n ) [ the inflated oblong ball used in playing American football ]\n",
      "Synset('soccer.n.01') ( n ) [ a football game in which two teams of 11 players try to kick or head a ball into the opponents' goal ]\n",
      " is 0.05\n",
      "\n"
     ]
    }
   ],
   "source": [
    "#3d compare two nouns\n",
    "import nltk\n",
    "from nltk.corpus import wordnet\n",
    "syn1 = wordnet.synsets('football')\n",
    "syn2 = wordnet.synsets('soccer')\n",
    "\n",
    "for s1 in syn1:\n",
    "    for s2 in syn2:\n",
    "        print(\"Path similarity of: \")\n",
    "        print(s1, '(', s1.pos(), ')', '[', s1.definition(), ']')\n",
    "        print(s2, '(', s2.pos(), ')', '[', s2.definition(), ']')\n",
    "        print(\" is\", s1.path_similarity(s2))\n",
    "        print()"
   ]
  },
  {
   "cell_type": "code",
   "execution_count": null,
   "id": "1ff94b72",
   "metadata": {},
   "outputs": [],
   "source": []
  },
  {
   "cell_type": "code",
   "execution_count": 1,
   "id": "387696dc",
   "metadata": {},
   "outputs": [
    {
     "name": "stderr",
     "output_type": "stream",
     "text": [
      "[nltk_data] Downloading package stopwords to\n",
      "[nltk_data]     C:\\Users\\Siddhi\\AppData\\Roaming\\nltk_data...\n",
      "[nltk_data]   Package stopwords is already up-to-date!\n"
     ]
    },
    {
     "name": "stdout",
     "output_type": "stream",
     "text": [
      "['Yashesh', 'likes', 'play', 'football', ',', 'fond', 'tennis', '.']\n",
      "['Yashesh', 'likes', 'football', ',', 'however', 'fond', 'tennis', '.']\n",
      "['Yashesh', 'likes', 'football', ',', 'however', 'not', 'fond', 'tennis', '.']\n"
     ]
    }
   ],
   "source": [
    "#3e. Handling stopword:\n",
    "#i) Using nltk Adding or Removing Stop Words in NLTK's Default Stop Word List\n",
    "\n",
    "import nltk\n",
    "from nltk.corpus import stopwords\n",
    "nltk.download('stopwords')\n",
    "from nltk.tokenize import word_tokenize\n",
    "text = \"Yashesh likes to play football, however he is not too fond of tennis.\"\n",
    "text_tokens = word_tokenize(text)\n",
    "tokens_without_sw = [word for word in text_tokens if not word in\n",
    "stopwords.words()]\n",
    "print(tokens_without_sw)\n",
    "#add the word play to the NLTK stop word collection\n",
    "all_stopwords = stopwords.words('english')\n",
    "all_stopwords.append('play')\n",
    "text_tokens = word_tokenize(text)\n",
    "tokens_without_sw = [word for word in text_tokens if not word in all_stopwords]\n",
    "print(tokens_without_sw)\n",
    "#remove ‘not’ from stop word collection\n",
    "all_stopwords.remove('not')\n",
    "text_tokens = word_tokenize(text)\n",
    "tokens_without_sw = [word for word in text_tokens if not word in all_stopwords]\n",
    "print(tokens_without_sw)"
   ]
  },
  {
   "cell_type": "code",
   "execution_count": null,
   "id": "9b8f29c0",
   "metadata": {},
   "outputs": [],
   "source": []
  },
  {
   "cell_type": "code",
   "execution_count": 30,
   "id": "eb62cde7",
   "metadata": {},
   "outputs": [
    {
     "name": "stdout",
     "output_type": "stream",
     "text": [
      "Yashesh likes play football, fond tennis.\n",
      "frozenset({'many', 'yourselves', 'either', 'made', 'himself', 'or', 'the', 'yours', 'around', 'with', 'under', 'eight', 'toward', 'her', 'other', 'too', 'somehow', 'bill', 'across', 'whatever', 'myself', 'out', 'being', 'above', 'whither', 'detail', 'also', 'get', 'various', 'most', 'anyone', 'whether', 'due', 'interest', 'they', 'always', 'sometime', 'now', 'an', 'be', 'hundred', 'using', 'ever', 'thereupon', 'something', 'within', 'two', 'fire', 'to', 'ie', 'doesn', 'everything', 'my', 'therein', 'were', 'is', 'you', 'not', 'everywhere', 'any', 'if', 'make', 'and', 'really', 'own', 'this', 'ten', 'first', 'beyond', 'same', 'sincere', 'indeed', 'except', 'do', 'side', 'beside', 'cannot', 'front', 'became', 'while', 'hereby', 'unless', 'few', 'another', 'those', 'give', 'latter', 'without', 'hers', 'every', 'latterly', 'thence', 'all', 'no', 'your', 'next', 'fifty', 'once', 'some', 'former', 'de', 'find', 'rather', 'never', 'system', 'could', 'that', 'via', 'serious', 'several', 'quite', 'show', 'seems', 'of', 'upon', 'co', 'after', 'just', 'still', 'been', 'about', 'becomes', 'there', 'anyhow', 'then', 'a', 'one', 'yourself', 'as', 'itself', 'whereby', 'even', 'might', 'he', 'both', 'can', 'has', 'she', 'behind', 'nobody', 'against', 'them', 'someone', 'its', 'meanwhile', 'beforehand', 'when', 'whoever', 'so', 'whom', 'here', 'should', 'seemed', 'whose', 'un', 'because', 'therefore', 'moreover', 'please', 'seem', 'anywhere', 'nine', 'thin', 'put', 'least', 'whenever', 'whereupon', 'mostly', 'km', 'it', 'we', 'into', 'along', 'computer', 'hereupon', 'inc', 'amongst', 'are', 'me', 'say', 'each', 'didn', 'seeming', 'whereafter', 'per', 'becoming', 'wherever', 'than', 'onto', 'whence', 'six', 'mill', 'sometimes', 'anyway', 'move', 'cry', 'well', 'keep', 'before', 'very', 'used', 'may', 'up', 'somewhere', 'anything', 'him', 'last', 'on', 'thick', 'over', 'perhaps', 'hereafter', 'noone', 'go', 'since', 'fill', 'thru', 'otherwise', 'kg', 'less', 're', 'these', 'further', 'below', 'wherein', 'everyone', 'herein', 'whereas', 'empty', 'does', 'twelve', 'bottom', 'such', 'take', 'namely', 'much', 'eg', 'hence', 'eleven', 'twenty', 'our', 'which', 'during', 'forty', 'am', 'in', 'yet', 'sixty', 'etc', 'between', 'down', 'together', 'hasnt', 'among', 'again', 'through', 'throughout', 'amoungst', 'more', 'become', 'ltd', 'enough', 'top', 'however', 'describe', 'nor', 'who', 'part', 'don', 'three', 'must', 'already', 'cant', 'only', 'full', 'would', 'off', 'at', 'though', 'neither', 'ours', 'amount', 'until', 'others', 'fifteen', 'for', 'doing', 'although', 'nothing', 'from', 'name', 'i', 'regarding', 'thereafter', 'else', 'call', 'what', 'how', 'nevertheless', 'back', 'where', 'nowhere', 'almost', 'us', 'found', 'afterwards', 'four', 'was', 'thus', 'whole', 'had', 'towards', 'couldnt', 'did', 'by', 'but', 'done', 'besides', 'themselves', 'their', 'will', 'elsewhere', 'thereby', 'mine', 'five', 'formerly', 'ourselves', 'none', 'often', 'con', 'his', 'have', 'see', 'alone', 'herself', 'why', 'third'})\n",
      "['Yashesh', 'football', ',', 'fond', 'tennis', '.']\n"
     ]
    }
   ],
   "source": [
    "#3e\n",
    "#ii) Using Gensim Adding and Removing Stop Words in Default Gensim Stop Words List\n",
    "\n",
    "#pip install gensim\n",
    "import gensim\n",
    "from gensim.parsing.preprocessing import remove_stopwords\n",
    "text = \"Yashesh likes to play football, however he is not too fond of tennis.\"\n",
    "filtered_sentence = remove_stopwords(text)\n",
    "print(filtered_sentence)\n",
    "all_stopwords = gensim.parsing.preprocessing.STOPWORDS\n",
    "print(all_stopwords)\n",
    "'''The following script adds likes and play to the list of stop words in Gensim:'''\n",
    "from gensim.parsing.preprocessing import STOPWORDS\n",
    "all_stopwords_gensim = STOPWORDS.union(set(['likes', 'play']))\n",
    "text = \"Yashesh likes to play football, however he is not too fond of tennis.\"\n",
    "text_tokens = word_tokenize(text)\n",
    "tokens_without_sw = [word for word in text_tokens if not word in\n",
    "all_stopwords_gensim]\n",
    "print(tokens_without_sw)\n",
    "\n"
   ]
  },
  {
   "cell_type": "code",
   "execution_count": null,
   "id": "0040f494",
   "metadata": {},
   "outputs": [],
   "source": []
  },
  {
   "cell_type": "code",
   "execution_count": 31,
   "id": "d4164792",
   "metadata": {},
   "outputs": [
    {
     "name": "stdout",
     "output_type": "stream",
     "text": [
      "['Yashesh', 'likes', 'play', 'football', ',', 'not', 'fond', 'tennis', '.']\n"
     ]
    }
   ],
   "source": [
    "# Remove the word 'not' from the existing set of Gensim stop words\n",
    "\n",
    "from gensim.parsing.preprocessing import STOPWORDS\n",
    "all_stopwords_gensim = STOPWORDS\n",
    "sw_list = {\"not\"}\n",
    "all_stopwords_gensim = STOPWORDS.difference(sw_list)\n",
    "text = \"Yashesh likes to play football, however he is not too fond of tennis.\"\n",
    "text_tokens = word_tokenize(text)\n",
    "# Filter out the tokens again with 'not' removed from stop words set\n",
    "tokens_without_sw = [word for word in text_tokens if not word in\n",
    "all_stopwords_gensim]\n",
    "print(tokens_without_sw)"
   ]
  },
  {
   "cell_type": "code",
   "execution_count": null,
   "id": "cab64fb2",
   "metadata": {
    "collapsed": true
   },
   "outputs": [],
   "source": []
  },
  {
   "cell_type": "code",
   "execution_count": 22,
   "id": "fc937818",
   "metadata": {},
   "outputs": [
    {
     "name": "stdout",
     "output_type": "stream",
     "text": [
      "['Yashesh', 'likes', 'football', ',', 'fond', 'tennis', '.']\n",
      "['Yashesh', 'likes', 'football', ',', 'not', 'fond', 'tennis', '.']\n"
     ]
    }
   ],
   "source": [
    "#3e \n",
    "#iii) Using Spacy Adding and Removing Stop Words in Default Spacy Stop Words List\n",
    "#pip install spacy\n",
    "#python -m spacy download en_core_web_sm\n",
    "#python -m spacy download en\n",
    "import spacy\n",
    "import nltk\n",
    "from nltk.tokenize import word_tokenize\n",
    "sp = spacy.load('en_core_web_sm')\n",
    "#add the word play to the NLTK stop word collection\n",
    "all_stopwords = sp.Defaults.stop_words\n",
    "all_stopwords.add(\"play\")\n",
    "text = \"Yashesh likes to play football, however he is not too fond of tennis.\"\n",
    "text_tokens = word_tokenize(text)\n",
    "tokens_without_sw = [word for word in text_tokens if not word in all_stopwords]\n",
    "print(tokens_without_sw)\n",
    "#remove 'not' from stop word collection\n",
    "all_stopwords.remove('not')\n",
    "tokens_without_sw = [word for word in text_tokens if not word in all_stopwords]\n",
    "print(tokens_without_sw)"
   ]
  },
  {
   "cell_type": "code",
   "execution_count": null,
   "id": "eb0d92b0",
   "metadata": {},
   "outputs": [],
   "source": []
  }
 ],
 "metadata": {
  "kernelspec": {
   "display_name": "Python 3 (ipykernel)",
   "language": "python",
   "name": "python3"
  },
  "language_info": {
   "codemirror_mode": {
    "name": "ipython",
    "version": 3
   },
   "file_extension": ".py",
   "mimetype": "text/x-python",
   "name": "python",
   "nbconvert_exporter": "python",
   "pygments_lexer": "ipython3",
   "version": "3.11.4"
  }
 },
 "nbformat": 4,
 "nbformat_minor": 5
}
