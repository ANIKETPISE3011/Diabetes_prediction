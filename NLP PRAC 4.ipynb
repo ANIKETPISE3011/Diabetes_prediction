{
 "cells": [
  {
   "cell_type": "code",
   "execution_count": 3,
   "id": "1a22e6eb",
   "metadata": {},
   "outputs": [
    {
     "name": "stdout",
     "output_type": "stream",
     "text": [
      " This tool is an a beta stage\n",
      " Alexa developers can use Get Metrics API to\n",
      "seamlessly analyse metric\n",
      " It also supports custom skill model, prebuilt Flash Briefing\n",
      "model, and the Smart Home Skill API\n",
      " You can use this tool for creation of monitors,\n",
      "alarms, and dashboards that spotlight changes\n",
      " The release of these three tools will\n",
      "enable developers to create visual rich skills for Alexa devices with screens\n",
      " Amazon\n",
      "describes these tools as the collection of tech and tools for creating visually rich and\n",
      "interactive voice experiences\n",
      " \n"
     ]
    }
   ],
   "source": [
    "#4. Text Tokenization\n",
    "#a. Tokenization using Python’s split() function\n",
    "\n",
    "text = \"\"\" This tool is an a beta stage. Alexa developers can use Get Metrics API to\n",
    "seamlessly analyse metric. It also supports custom skill model, prebuilt Flash Briefing\n",
    "model, and the Smart Home Skill API. You can use this tool for creation of monitors,\n",
    "alarms, and dashboards that spotlight changes. The release of these three tools will\n",
    "enable developers to create visual rich skills for Alexa devices with screens. Amazon\n",
    "describes these tools as the collection of tech and tools for creating visually rich and\n",
    "interactive voice experiences. \"\"\"\n",
    "data = text.split('.')\n",
    "for i in data:\n",
    "    print (i)"
   ]
  },
  {
   "cell_type": "code",
   "execution_count": null,
   "id": "25ba65a7",
   "metadata": {},
   "outputs": [],
   "source": []
  },
  {
   "cell_type": "code",
   "execution_count": 10,
   "id": "cad23169",
   "metadata": {},
   "outputs": [
    {
     "name": "stdout",
     "output_type": "stream",
     "text": [
      "['I', 'love', 'to', 'study', 'Natural', 'Language', 'Processing', 'in', 'Python']\n"
     ]
    }
   ],
   "source": [
    "#4b. Tokenization using Regular Expressions (RegEx)\n",
    "\n",
    "import nltk\n",
    "# import RegexpTokenizer() method from nltk\n",
    "from nltk.tokenize import RegexpTokenizer\n",
    "# Create a reference variable for Class RegexpTokenizer\n",
    "tk = RegexpTokenizer('\\s+', gaps = True)\n",
    "# Create a string input\n",
    "str = \"I love to study Natural Language Processing in Python\"\n",
    "# Use tokenize method\n",
    "tokens = tk.tokenize(str)\n",
    "print(tokens)"
   ]
  },
  {
   "cell_type": "code",
   "execution_count": null,
   "id": "3c3dc812",
   "metadata": {},
   "outputs": [],
   "source": []
  },
  {
   "cell_type": "code",
   "execution_count": 5,
   "id": "c571476a",
   "metadata": {},
   "outputs": [
    {
     "name": "stdout",
     "output_type": "stream",
     "text": [
      "['I', 'love', 'to', 'study', 'Natural', 'Language', 'Processing', 'in', 'Python']\n"
     ]
    }
   ],
   "source": [
    "#4c. Tokenization using NLTK\n",
    "import nltk\n",
    "from nltk.tokenize import word_tokenize\n",
    "# Create a string input\n",
    "str = \"I love to study Natural Language Processing in Python\"\n",
    "# Use tokenize method\n",
    "print(word_tokenize(str))"
   ]
  },
  {
   "cell_type": "code",
   "execution_count": null,
   "id": "10222ec4",
   "metadata": {},
   "outputs": [],
   "source": []
  },
  {
   "cell_type": "code",
   "execution_count": 6,
   "id": "e781a35d",
   "metadata": {},
   "outputs": [
    {
     "name": "stdout",
     "output_type": "stream",
     "text": [
      "['I', 'love', 'to', 'study', 'Natural', 'Language', 'Processing', 'in', 'Python']\n"
     ]
    }
   ],
   "source": [
    "#4d. Tokenization using the spaCy library\n",
    "import spacy\n",
    "nlp = spacy.blank(\"en\")\n",
    "# Create a string input\n",
    "str = \"I love to study Natural Language Processing in Python\"\n",
    "# Create an instance of document;\n",
    "# doc object is a container for a sequence of Token objects.\n",
    "doc = nlp(str)\n",
    "# Read the words; Print the words\n",
    "#\n",
    "words = [word.text for word in doc]\n",
    "print(words)"
   ]
  },
  {
   "cell_type": "code",
   "execution_count": null,
   "id": "5b8fd41c",
   "metadata": {},
   "outputs": [],
   "source": []
  },
  {
   "cell_type": "code",
   "execution_count": 7,
   "id": "d4cdd981",
   "metadata": {},
   "outputs": [
    {
     "name": "stdout",
     "output_type": "stream",
     "text": [
      "['i', 'love', 'to', 'study', 'natural', 'language', 'processing', 'in', 'python']\n"
     ]
    }
   ],
   "source": [
    "#4e. Tokenization using Keras\n",
    "\n",
    "#pip install keras\n",
    "#pip install tensorflow\n",
    "import keras\n",
    "from keras.preprocessing.text import text_to_word_sequence\n",
    "# Create a string input\n",
    "str = \"I love to study Natural Language Processing in Python\"\n",
    "# tokenizing the text\n",
    "tokens = text_to_word_sequence(str)\n",
    "print(tokens)"
   ]
  },
  {
   "cell_type": "code",
   "execution_count": null,
   "id": "a5fd814b",
   "metadata": {},
   "outputs": [],
   "source": []
  },
  {
   "cell_type": "code",
   "execution_count": 8,
   "id": "798ea5bf",
   "metadata": {},
   "outputs": [
    {
     "data": {
      "text/plain": [
       "['I',\n",
       " 'love',\n",
       " 'to',\n",
       " 'study',\n",
       " 'Natural',\n",
       " 'Language',\n",
       " 'Processing',\n",
       " 'in',\n",
       " 'Python']"
      ]
     },
     "execution_count": 8,
     "metadata": {},
     "output_type": "execute_result"
    }
   ],
   "source": [
    "#4f Tokenization using Gensim\n",
    "#pip install gensim\n",
    "from gensim.utils import tokenize\n",
    "# Create a string input\n",
    "str = \"I love to study Natural Language Processing in Python\"\n",
    "# tokenizing the text\n",
    "list(tokenize(str))"
   ]
  },
  {
   "cell_type": "code",
   "execution_count": null,
   "id": "0a536831",
   "metadata": {},
   "outputs": [],
   "source": []
  }
 ],
 "metadata": {
  "kernelspec": {
   "display_name": "Python 3 (ipykernel)",
   "language": "python",
   "name": "python3"
  },
  "language_info": {
   "codemirror_mode": {
    "name": "ipython",
    "version": 3
   },
   "file_extension": ".py",
   "mimetype": "text/x-python",
   "name": "python",
   "nbconvert_exporter": "python",
   "pygments_lexer": "ipython3",
   "version": "3.11.4"
  }
 },
 "nbformat": 4,
 "nbformat_minor": 5
}
